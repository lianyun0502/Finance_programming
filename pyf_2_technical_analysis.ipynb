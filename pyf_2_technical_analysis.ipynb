{
 "cells": [
  {
   "cell_type": "markdown",
   "metadata": {
    "id": "5y2g6_LltUy_"
   },
   "source": [
    "# Technical Analysis\n"
   ]
  },
  {
   "cell_type": "markdown",
   "metadata": {
    "id": "nUc5Q_MWOgMt"
   },
   "source": [
    "## Package: ta\n",
    "- [Technical Analysis Library in Python](https://github.com/bukosabino/ta)\n",
    "    - Official document: https://technical-analysis-library-in-python.readthedocs.io/en/latest/\n",
    "    - Another example: https://github.com/bukosabino/ta/blob/master/examples_to_use/visualize_features.ipynb\n",
    "- References:\n",
    "    - https://school.stockcharts.com/doku.php?id=technical_indicators\n",
    "    - https://www.tradingtechnologies.com/help/x-study/technical-indicator-definitions/list-of-technical-indicators/\n",
    "    - https://www.bernstein-bank.com/wp-content/uploads/2016/08/Technical-Analysis-Englisch.pdf"
   ]
  },
  {
   "cell_type": "code",
   "execution_count": null,
   "metadata": {
    "id": "VnZ2KEm5PI-b"
   },
   "outputs": [],
   "source": [
    "%%capture\n",
    "\n",
    "!pip install --upgrade pandas-datareader\n",
    "!pip install ffn ta"
   ]
  },
  {
   "cell_type": "code",
   "execution_count": null,
   "metadata": {
    "id": "lzkT9pnOmij5"
   },
   "outputs": [],
   "source": [
    "import ffn\n",
    "import pandas as pd\n",
    "import ta\n",
    "import matplotlib.pyplot as plt\n",
    "\n",
    "params = {'legend.fontsize': 'x-large',\n",
    "      'figure.figsize': (12, 6),\n",
    "      'axes.labelsize': 'x-large',\n",
    "      'axes.titlesize': 'x-large',\n",
    "      'xtick.labelsize': 'x-large',\n",
    "      'ytick.labelsize': 'x-large'}\n",
    "plt.rcParams.update(params)\n",
    "\n",
    "%matplotlib inline"
   ]
  },
  {
   "cell_type": "code",
   "execution_count": null,
   "metadata": {
    "id": "XT6hXQ-WtUy_",
    "scrolled": true
   },
   "outputs": [],
   "source": [
    "df = ffn.get(\"2330.tw\", start = \"2020-01-01\")\n",
    "\n",
    "df"
   ]
  },
  {
   "cell_type": "markdown",
   "metadata": {
    "id": "fETmWJF3Pe27"
   },
   "source": [
    "### Example 1: Simple Moving Average\n"
   ]
  },
  {
   "cell_type": "code",
   "execution_count": null,
   "metadata": {
    "id": "gm9mxNOKPjbX"
   },
   "outputs": [],
   "source": [
    "from ta.trend import SMAIndicator\n",
    "\n",
    "%matplotlib inline\n",
    "\n",
    "df[\"SMA5\"] = SMAIndicator(df[\"2330tw\"], window = 5).sma_indicator()\n",
    "df[\"SMA10\"] = SMAIndicator(df[\"2330tw\"], window = 10).sma_indicator()\n",
    "df[\"SMA20\"] = SMAIndicator(df[\"2330tw\"], window = 20).sma_indicator()\n",
    "df[\"SMA60\"] = SMAIndicator(df[\"2330tw\"], window = 60).sma_indicator()\n",
    "df[\"SMA120\"] = SMAIndicator(df[\"2330tw\"], window = 120).sma_indicator()\n",
    "df[\"SMA250\"] = SMAIndicator(df[\"2330tw\"], window = 250).sma_indicator()\n",
    "\n",
    "ax = df[\"2330tw\"].plot.line(figsize = (12, 6), ylabel = \"Price\")\n",
    "df.iloc[:, 1:].plot.line(ax = ax, linestyle = \"--\", grid = True, title = \"2330tw\")"
   ]
  },
  {
   "cell_type": "markdown",
   "metadata": {
    "id": "JZzwXY2tPZLF"
   },
   "source": [
    "### Example 2: Bollinger Bands\n",
    "- John Bollinger started developing Bollinger Bands in the early 1980s.\n",
    "    - https://www.bollingerbands.com/\n",
    "- Trading signals:\n",
    "    - Bollinger bands often represent strong support lines or resistance lines.\n",
    "    - Extreme highs and lows outside the bands indicate a possible trend reversal.\n",
    "    - Narrowing of the ligaments can in turn indicate a possible impending breakout.\n",
    "    - If the price touches, exceeds or falls below a band several times in succession, a trend acceleration in the existing direction is expected. \n",
    "- References:\n",
    "    - https://rich01.com/what-is-bollinger-band/"
   ]
  },
  {
   "cell_type": "code",
   "execution_count": null,
   "metadata": {
    "id": "hAm-NdAdtUy_",
    "scrolled": true
   },
   "outputs": [],
   "source": [
    "from ta.volatility import BollingerBands\n",
    "\n",
    "bb_indicator = BollingerBands(close = df[\"2330tw\"], window = 20, window_dev = 2)\n",
    "df[\"bbm\"] = bb_indicator.bollinger_mavg()\n",
    "df[\"bbh\"] = bb_indicator.bollinger_hband()\n",
    "df[\"bbl\"] = bb_indicator.bollinger_lband()"
   ]
  },
  {
   "cell_type": "code",
   "execution_count": null,
   "metadata": {
    "id": "X5eB-JBdZZKj"
   },
   "outputs": [],
   "source": [
    "ax = df[\"2330tw\"].plot.line(figsize = (12, 6), ylabel = \"Price\")\n",
    "ax = df[[\"bbm\", \"bbh\", \"bbl\"]].plot.line(ax = ax, linestyle = \"--\", grid = True, title = \"2330tw\")"
   ]
  },
  {
   "cell_type": "code",
   "execution_count": null,
   "metadata": {
    "id": "R7N_R7nJbesV"
   },
   "outputs": [],
   "source": [
    "ax = df[\"2330tw\"].plot.line(figsize = (12, 6), ylabel = \"Price\")\n",
    "ax = df[[\"bbm\", \"bbh\", \"bbl\"]].plot.line(ax = ax, linestyle = \"--\", grid = True, title = \"2330tw\")\n",
    "\n",
    "bbh_mask = bb_indicator.bollinger_hband_indicator() == 1\n",
    "bbl_mask = bb_indicator.bollinger_lband_indicator() == 1\n",
    "\n",
    "plt.plot(df[\"2330tw\"][bbh_mask], \"ro\")\n",
    "plt.plot(df[\"2330tw\"][bbl_mask], \"go\")"
   ]
  },
  {
   "cell_type": "markdown",
   "metadata": {
    "id": "fj4f-BMzTVNl"
   },
   "source": [
    "### Example 3: Moving Average Convergence Divergence (MACD)\n",
    "- Gerald Appel (1979).\n",
    "- Exponential Moving Average (EMA)\n",
    "    - Let $N$ be the number of observation days and $\\alpha = \\frac{2}{N + 1}$.\n",
    "    - Then we have $$\\text{EMA}' = \\alpha \\times \\text{close}_i + (1 - \\alpha) \\times \\text{EMA}.$$\n",
    "    - EMAs reduce the lag **by applying more weight to recent prices**.\n",
    "\n",
    "<center>\n",
    "<img src = \"https://fxcodebase.com/wiki/images/0/07/Ema1.png\" width = \"500px\"/><br>\n",
    "Figure: $N = 10$\n",
    "</center>\n",
    "\n",
    "- Calculation:\n",
    "    - MACD Line: 12-day EMA $-$ 26-day EMA.\n",
    "    - Signal Line: 9-day EMA of MACD Line.\n",
    "    - MACD Histogram: MACD Line $-$ Signal Line.\n",
    "- References:\n",
    "    - https://www.taindicators.com/macd/\n",
    "    - https://school.stockcharts.com/doku.php?id=technical_indicators:moving_average_convergence_divergence_macd"
   ]
  },
  {
   "cell_type": "code",
   "execution_count": null,
   "metadata": {
    "id": "_T-FK7TCTfY0"
   },
   "outputs": [],
   "source": [
    "from ta.trend import macd_diff\n",
    "\n",
    "df[\"macd_diff\"] = macd_diff(close = df[\"2330tw\"],  window_sign = 9, window_fast = 12, window_slow = 26)"
   ]
  },
  {
   "cell_type": "code",
   "execution_count": null,
   "metadata": {
    "id": "KYugFGSvdEQJ"
   },
   "outputs": [],
   "source": [
    "plt.figure(figsize = (12, 6))\n",
    "plt.subplot(211)\n",
    "plt.title(\"2330tw\")\n",
    "plt.plot(df.index, df[\"2330tw\"], \"o\", linewidth = 0.5, linestyle = \"--\", markersize = 2)\n",
    "plt.grid(True)\n",
    "plt.ylabel(\"Price\")\n",
    "l, h = plt.xlim()\n",
    "\n",
    "plt.subplot(212)\n",
    "plt.bar(df.index[df[\"macd_diff\"] > 0], df[\"macd_diff\"][df[\"macd_diff\"] > 0], color = \"r\")\n",
    "plt.bar(df.index[df[\"macd_diff\"] <= 0], df[\"macd_diff\"][df[\"macd_diff\"] <= 0], color = \"g\")\n",
    "plt.grid(True)\n",
    "plt.ylabel(\"MACD\")\n",
    "plt.xlim(l, h)\n",
    "\n",
    "plt.show()"
   ]
  },
  {
   "cell_type": "markdown",
   "metadata": {
    "id": "6wWfK7o3TYeQ"
   },
   "source": [
    "### Example 4: Stochastic Oscillator (KD)\n",
    "- George C. Lan (1957).\n",
    "- The Stochastic Oscillator is a **momentum** indicator that shows the location of the close relative to the high-low range over a set number of periods.\n",
    "- Calculation:\n",
    "    - Lowest Low = lowest low for the look-back period\n",
    "    - Highest High = highest high for the look-back period\n",
    "    - %K = (Current Close - Lowest Low) / (Highest High - Lowest Low) x 100\n",
    "    - %D = 3-day SMA of %K\n",
    "\n",
    "    \n",
    "    "
   ]
  },
  {
   "cell_type": "code",
   "execution_count": null,
   "metadata": {
    "id": "OH6OUBVcTfvu"
   },
   "outputs": [],
   "source": [
    "from ta.momentum import StochasticOscillator\n",
    "\n",
    "df2 = ffn.get(\"2330.tw:High, 2330.tw:Low, 2330.tw:Close\", start = \"2020-01-01\")\n",
    "df2.columns = [\"High\", \"Low\", \"Close\"]"
   ]
  },
  {
   "cell_type": "code",
   "execution_count": null,
   "metadata": {
    "id": "dKCn5_ZJxTXp"
   },
   "outputs": [],
   "source": [
    "df2[\"K\"] = StochasticOscillator(close = df2[\"Close\"], low = df2[\"Low\"], high = df2[\"High\"], window = 14, smooth_window = 3).stoch()\n",
    "df2[\"D\"] = StochasticOscillator(close = df2[\"Close\"], low = df2[\"Low\"], high = df2[\"High\"], window = 14, smooth_window = 3).stoch_signal()"
   ]
  },
  {
   "cell_type": "code",
   "execution_count": null,
   "metadata": {
    "id": "1ulK7gG5Xrak"
   },
   "outputs": [],
   "source": [
    "plt.figure(figsize = (12, 6))\n",
    "plt.subplot(211)\n",
    "plt.title(\"2330\")\n",
    "plt.plot(df2.index, df2[\"Close\"], \"o\", linewidth = 0.5, linestyle = \"--\", markersize = 2)\n",
    "plt.grid(True)\n",
    "plt.ylabel(\"Price\")\n",
    "l, h = plt.xlim()\n",
    "\n",
    "plt.subplot(212)\n",
    "plt.plot(df2.index, df2[\"K\"], color = \"r\")\n",
    "plt.plot(df2.index, df2[\"D\"], color = \"g\")\n",
    "plt.grid(True)\n",
    "plt.ylabel(\"Stochastic Oscillator (%)\")\n",
    "plt.legend([\"K (14)\", \"D (3)\"])\n",
    "plt.xlim(l, h)\n",
    "\n",
    "plt.show()"
   ]
  },
  {
   "cell_type": "markdown",
   "metadata": {
    "id": "h3MBHurSYpqa"
   },
   "source": [
    "### Example 5: Relative Strength Index (RSI)\n",
    "- Wells Wilder (1978).\n",
    "- Calculation:\n",
    "    RSI = 100 - 100 / (1 + RS) with RS = Average Gain / Average Loss.\n",
    "- RSI is more sensitive to price change than KD.\n",
    "- References:\n",
    "    - https://rich01.com/rsi-index-review/"
   ]
  },
  {
   "cell_type": "code",
   "execution_count": null,
   "metadata": {
    "id": "4ud2dH5CYu2B"
   },
   "outputs": [],
   "source": [
    "from ta.momentum import RSIIndicator\n",
    "\n",
    "df[\"RSI\"] = RSIIndicator(close = df[\"2330tw\"], window = 14).rsi()"
   ]
  },
  {
   "cell_type": "code",
   "execution_count": null,
   "metadata": {
    "id": "kNZfTxLet33y"
   },
   "outputs": [],
   "source": [
    "plt.figure(figsize = (12, 6))\n",
    "plt.subplot(211)\n",
    "plt.title(\"2330\")\n",
    "plt.plot(df.index, df[\"2330tw\"], \"o\", linewidth = 0.5, linestyle = \"--\", markersize = 2)\n",
    "plt.grid(True)\n",
    "plt.ylabel(\"Price\")\n",
    "l, h = plt.xlim()\n",
    "\n",
    "plt.subplot(212)\n",
    "plt.plot(df.index, df[\"RSI\"], color = \"r\")\n",
    "plt.grid(True)\n",
    "plt.ylabel(\"RSI (%)\")\n",
    "plt.xlim(l, h)\n",
    "\n",
    "plt.show()"
   ]
  }
 ],
 "metadata": {
  "colab": {
   "collapsed_sections": [],
   "name": "pyf_2_technical_analysis.ipynb",
   "provenance": []
  },
  "kernelspec": {
   "display_name": "Python 3 (ipykernel)",
   "language": "python",
   "name": "python3"
  },
  "language_info": {
   "codemirror_mode": {
    "name": "ipython",
    "version": 3
   },
   "file_extension": ".py",
   "mimetype": "text/x-python",
   "name": "python",
   "nbconvert_exporter": "python",
   "pygments_lexer": "ipython3",
   "version": "3.9.5"
  }
 },
 "nbformat": 4,
 "nbformat_minor": 4
}
