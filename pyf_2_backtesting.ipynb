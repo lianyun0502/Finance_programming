{
 "cells": [
  {
   "cell_type": "markdown",
   "metadata": {
    "id": "UPIPE57C-VBr"
   },
   "source": [
    "# Package: backtesting\n",
    "- References:\n",
    "    - Official website: https://kernc.github.io/backtesting.py/doc/backtesting/#gsc.tab=0\n",
    "    - Quick starter: https://kernc.github.io/backtesting.py/doc/examples/Quick%20Start%20User%20Guide.html\n"
   ]
  },
  {
   "cell_type": "code",
   "execution_count": null,
   "metadata": {
    "id": "L_UvoGbhkfZl"
   },
   "outputs": [],
   "source": [
    "%%capture\n",
    "\n",
    "!pip install --upgrade pandas-datareader\n",
    "!pip install ffn backtesting"
   ]
  },
  {
   "cell_type": "code",
   "execution_count": null,
   "metadata": {
    "id": "BQUgx8mMku79"
   },
   "outputs": [],
   "source": [
    "import ffn\n",
    "from backtesting import Backtest, Strategy"
   ]
  },
  {
   "cell_type": "markdown",
   "metadata": {
    "id": "pvwjUT1ulwDm"
   },
   "source": [
    "## Example"
   ]
  },
  {
   "cell_type": "code",
   "execution_count": null,
   "metadata": {
    "id": "OjF6smAhFaGJ"
   },
   "outputs": [],
   "source": [
    "from backtesting.test import GOOG\n",
    "\n",
    "GOOG"
   ]
  },
  {
   "cell_type": "code",
   "execution_count": null,
   "metadata": {
    "id": "4wNXf6Lpk4K1"
   },
   "outputs": [],
   "source": [
    "from backtesting.test import SMA\n",
    "from backtesting.lib import crossover\n",
    "\n",
    "class SmaCross(Strategy):    \n",
    "\n",
    "    n1 = 5\n",
    "    n2 = 10\n",
    "\n",
    "    def init(self):\n",
    "        price = self.data.Close\n",
    "        self.ma1 = self.I(SMA, price, self.n1)\n",
    "        self.ma2 = self.I(SMA, price, self.n2)\n",
    "\n",
    "    def next(self):\n",
    "        if crossover(self.ma1, self.ma2):\n",
    "            self.buy()\n",
    "        elif crossover(self.ma2, self.ma1):\n",
    "            self.sell()"
   ]
  },
  {
   "cell_type": "code",
   "execution_count": null,
   "metadata": {
    "id": "Dw7nXASSk65K"
   },
   "outputs": [],
   "source": [
    "bt = Backtest(GOOG, SmaCross, cash = 10000, commission = .005, exclusive_orders = True)\n",
    "stats = bt.run()\n",
    "bt.plot()"
   ]
  },
  {
   "cell_type": "code",
   "execution_count": null,
   "metadata": {
    "id": "spQ4d-8VlKI3"
   },
   "outputs": [],
   "source": [
    "stats"
   ]
  },
  {
   "cell_type": "markdown",
   "metadata": {
    "id": "dWJAq9tzyTft"
   },
   "source": [
    "- Glossary\n",
    "    - Sortino ratio: https://en.wikipedia.org/wiki/Sortino_ratio\n",
    "    - Calmar ratio: https://corporatefinanceinstitute.com/resources/knowledge/trading-investing/calmar-ratio/\n",
    "<center>\n",
    "<img src = \"https://cdn.corporatefinanceinstitute.com/assets/calmar-ratio1.png\" width = \"300px\"/>\n",
    "</center>\n",
    "    - SQN (System Quality Number): https://www.bituzi.com/2013/11/SystemQualityNumber.html\n",
    "<center>\n",
    "<img src = \"https://3.bp.blogspot.com/-iKaU7j_yMjo/UoTQDVqufmI/AAAAAAAAAq8/dA1EkBZ07X4/s400/2013-11-14_203502.png\" width = \"300px\"/>\n",
    "</center>"
   ]
  },
  {
   "cell_type": "code",
   "execution_count": null,
   "metadata": {
    "id": "ExsYhy76vict"
   },
   "outputs": [],
   "source": [
    "stats[\"_trades\"]"
   ]
  },
  {
   "cell_type": "code",
   "execution_count": null,
   "metadata": {
    "id": "-3tBXOuC0xji"
   },
   "outputs": [],
   "source": [
    "stats = bt.optimize(n1 = range(5, 60, 5), n2 = range(10, 240, 10), maximize = \"Equity Final [$]\",\n",
    "           constraint = lambda param: param.n1 < param.n2)\n",
    "stats._strategy"
   ]
  },
  {
   "cell_type": "code",
   "execution_count": null,
   "metadata": {
    "id": "jVzxa7S91qVN"
   },
   "outputs": [],
   "source": [
    "stats"
   ]
  },
  {
   "cell_type": "markdown",
   "metadata": {
    "id": "1WLxetXkl5V3"
   },
   "source": [
    "## Exercise"
   ]
  },
  {
   "cell_type": "code",
   "execution_count": null,
   "metadata": {
    "id": "B4lOFlhWl7Zz"
   },
   "outputs": [],
   "source": [
    "tsmc = ffn.get(\"2330.tw:Open, 2330.tw:High, 2330.tw:Low, 2330.tw:Close\", start = \"2021-01-01\")\n",
    "tsmc.columns = list(map(lambda x : x[6:].title(), tsmc.columns))\n",
    "tsmc"
   ]
  },
  {
   "cell_type": "code",
   "execution_count": null,
   "metadata": {
    "id": "0nDEaduDnmdb"
   },
   "outputs": [],
   "source": [
    "class SmaCross(Strategy):\n",
    "\n",
    "    n1 = 5\n",
    "    n2 = 10\n",
    "\n",
    "    def init(self):\n",
    "        price = self.data.Close\n",
    "        self.ma1 = self.I(SMA, price, self.n1)\n",
    "        self.ma2 = self.I(SMA, price, self.n2)\n",
    "\n",
    "    def next(self):\n",
    "        if crossover(self.ma1, self.ma2):\n",
    "            self.position.close()\n",
    "        elif crossover(self.ma2, self.ma1):\n",
    "            self.sell()"
   ]
  },
  {
   "cell_type": "code",
   "execution_count": null,
   "metadata": {
    "id": "q_nBb66imevz"
   },
   "outputs": [],
   "source": [
    "bt = Backtest(tsmc, SmaCross, commission = .005, cash = 100000, exclusive_orders = True)\n",
    "stats = bt.run()\n",
    "bt.plot()"
   ]
  },
  {
   "cell_type": "code",
   "execution_count": null,
   "metadata": {
    "id": "AAGliQF42-GR"
   },
   "outputs": [],
   "source": [
    "stats"
   ]
  },
  {
   "cell_type": "code",
   "execution_count": null,
   "metadata": {
    "id": "g3KzhL2x3EbA"
   },
   "outputs": [],
   "source": [
    "stats = bt.optimize(n1 = range(5, 60, 5), n2 = range(10, 240, 10), maximize = 'Sharpe Ratio',\n",
    "           constraint = lambda param: param.n1 < param.n2)\n",
    "stats._strategy"
   ]
  },
  {
   "cell_type": "code",
   "execution_count": null,
   "metadata": {
    "id": "0iEnQhDr3J5Z"
   },
   "outputs": [],
   "source": [
    "stats"
   ]
  }
 ],
 "metadata": {
  "colab": {
   "collapsed_sections": [],
   "name": "pyf_2_backtesting.ipynb",
   "provenance": [],
   "toc_visible": true
  },
  "kernelspec": {
   "display_name": "Python 3 (ipykernel)",
   "language": "python",
   "name": "python3"
  },
  "language_info": {
   "codemirror_mode": {
    "name": "ipython",
    "version": 3
   },
   "file_extension": ".py",
   "mimetype": "text/x-python",
   "name": "python",
   "nbconvert_exporter": "python",
   "pygments_lexer": "ipython3",
   "version": "3.9.5"
  }
 },
 "nbformat": 4,
 "nbformat_minor": 4
}
