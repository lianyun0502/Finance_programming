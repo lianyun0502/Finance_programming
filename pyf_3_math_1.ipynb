{
  "nbformat": 4,
  "nbformat_minor": 0,
  "metadata": {
    "kernelspec": {
      "display_name": "Python 3",
      "language": "python",
      "name": "python3"
    },
    "language_info": {
      "codemirror_mode": {
        "name": "ipython",
        "version": 3
      },
      "file_extension": ".py",
      "mimetype": "text/x-python",
      "name": "python",
      "nbconvert_exporter": "python",
      "pygments_lexer": "ipython3",
      "version": "3.7.6"
    },
    "colab": {
      "name": "pyf_3_math_1.ipynb",
      "provenance": [],
      "collapsed_sections": [],
      "toc_visible": true
    }
  },
  "cells": [
    {
      "cell_type": "markdown",
      "metadata": {
        "id": "q64rkXWOtU1v"
      },
      "source": [
        "# Selected Mathematical Tools"
      ]
    },
    {
      "cell_type": "code",
      "metadata": {
        "id": "CsC7ZYx3tU1v"
      },
      "source": [
        "import matplotlib.pyplot as plt\n",
        "\n",
        "params = {'legend.fontsize': 'x-large',\n",
        "      'figure.figsize': (12, 6),\n",
        "      'axes.labelsize': 'x-large',\n",
        "      'axes.titlesize': 'x-large',\n",
        "      'xtick.labelsize': 'x-large',\n",
        "      'ytick.labelsize': 'x-large'}\n",
        "plt.rcParams.update(params)"
      ],
      "execution_count": null,
      "outputs": []
    },
    {
      "cell_type": "markdown",
      "metadata": {
        "id": "CCgoeOUJtU1y"
      },
      "source": [
        "## Numerical package: NumPy\n",
        "\n",
        "- **Vectorization**: different from python lists, similar to MATLAB\n",
        "\n",
        "- Reference:\n",
        "    - https://docs.scipy.org/doc/numpy/user/\n",
        "    - Cheat sheet: https://s3.amazonaws.com/assets.datacamp.com/blog_assets/Numpy_Python_Cheat_Sheet.pdf"
      ]
    },
    {
      "cell_type": "markdown",
      "metadata": {
        "id": "uSzfgKyoQqR7"
      },
      "source": [
        "### Example 1: Addition (Comparison with Python Lists)"
      ]
    },
    {
      "cell_type": "code",
      "metadata": {
        "id": "7NEXnLTytU1z"
      },
      "source": [
        "# list\n",
        "\n",
        "x = [1, 2, 3]\n",
        "y = [4, 5, 6]\n",
        "x + y"
      ],
      "execution_count": null,
      "outputs": []
    },
    {
      "cell_type": "code",
      "metadata": {
        "id": "W0pUxaCutU12"
      },
      "source": [
        "print(type(x))"
      ],
      "execution_count": null,
      "outputs": []
    },
    {
      "cell_type": "code",
      "metadata": {
        "id": "HR4RhzDstU14"
      },
      "source": [
        "import numpy as np\n",
        "\n",
        "x = np.array(x)\n",
        "print(type(x))"
      ],
      "execution_count": null,
      "outputs": []
    },
    {
      "cell_type": "code",
      "metadata": {
        "id": "55yct34GtU15"
      },
      "source": [
        "y = np.array(y)\n",
        "x + y"
      ],
      "execution_count": null,
      "outputs": []
    },
    {
      "cell_type": "markdown",
      "metadata": {
        "id": "A6A5cH4ZRUje"
      },
      "source": [
        "### Example 2: Mulitplication"
      ]
    },
    {
      "cell_type": "code",
      "metadata": {
        "id": "T9oTPia4tU17"
      },
      "source": [
        "s = \"N\"\n",
        "print(s * 10)"
      ],
      "execution_count": null,
      "outputs": []
    },
    {
      "cell_type": "code",
      "metadata": {
        "id": "Pr7ZJiCWtU19"
      },
      "source": [
        "unit_price = np.array([10, 20, 30])\n",
        "qty = np.array([100, 50, 10])\n",
        "cost = unit_price * qty\n",
        "print(cost)"
      ],
      "execution_count": null,
      "outputs": []
    },
    {
      "cell_type": "markdown",
      "metadata": {
        "id": "8lyvoA1-y4_5"
      },
      "source": [
        "#### Exercise: Total Value of Portfolio\n",
        "- $x$: asset prices\n",
        "- $w$: asset weights\n",
        "- Total value of portfolio = $w^T \\cdot x$ = sum($w$ * $x$) where $T$ is the transposition operation."
      ]
    },
    {
      "cell_type": "code",
      "metadata": {
        "id": "l_VLFDTWye7K"
      },
      "source": [
        "x = np.array([10, 20]) # convert list to ndarray\n",
        "w = np.array([30, 40])\n",
        "\n",
        "print(x)\n",
        "print(w)"
      ],
      "execution_count": null,
      "outputs": []
    },
    {
      "cell_type": "code",
      "metadata": {
        "id": "N4I5083sQca7"
      },
      "source": [
        "print(w * x)"
      ],
      "execution_count": null,
      "outputs": []
    },
    {
      "cell_type": "code",
      "metadata": {
        "id": "PUW1PalHz4ms"
      },
      "source": [
        "total = np.sum(w * x)\n",
        "print(total)"
      ],
      "execution_count": null,
      "outputs": []
    },
    {
      "cell_type": "code",
      "metadata": {
        "id": "n-aZcZpS1KUO"
      },
      "source": [
        "print(w.dot(x)) # inner product"
      ],
      "execution_count": null,
      "outputs": []
    },
    {
      "cell_type": "markdown",
      "metadata": {
        "id": "AU9iSQCttU2A"
      },
      "source": [
        "### Example 3: Array Creation\n",
        "* numpy.linspace()\n",
        "* numpy.arange()"
      ]
    },
    {
      "cell_type": "markdown",
      "metadata": {
        "id": "5CBF9fsPRpVh"
      },
      "source": [
        "#### 1D Array"
      ]
    },
    {
      "cell_type": "code",
      "metadata": {
        "id": "PaEpHqsvtU2A"
      },
      "source": [
        "xdata = np.linspace(0, 10, 11)\n",
        "print(xdata)"
      ],
      "execution_count": null,
      "outputs": []
    },
    {
      "cell_type": "code",
      "metadata": {
        "id": "1C9oNdlhtU2C"
      },
      "source": [
        "ydata = np.arange(0, 1, 0.1, dtype = \"float64\")\n",
        "print(ydata)"
      ],
      "execution_count": null,
      "outputs": []
    },
    {
      "cell_type": "markdown",
      "metadata": {
        "id": "QQ7JiXfURwy8"
      },
      "source": [
        "#### 2D Array\n",
        "* numpy.ones()\n",
        "* numpy.zeros()\n",
        "* numpy.eye()\n",
        "* numpy.diag()"
      ]
    },
    {
      "cell_type": "code",
      "metadata": {
        "id": "PhxisypLtU2E"
      },
      "source": [
        "M = np.zeros([3, 3])\n",
        "print(M)"
      ],
      "execution_count": null,
      "outputs": []
    },
    {
      "cell_type": "code",
      "metadata": {
        "id": "Gx0BeQa6tU2G"
      },
      "source": [
        "M[1, 1] = 5\n",
        "print(M)\n",
        "\n",
        "M[2, :] = [10, 20, 30]\n",
        "print(M)\n",
        "\n",
        "M[:, 2] = [100, 200, 300]\n",
        "print(M)"
      ],
      "execution_count": null,
      "outputs": []
    },
    {
      "cell_type": "markdown",
      "metadata": {
        "id": "23JKwXC-SGkx"
      },
      "source": [
        "### Example 4: Random Number Generators (RNG)\n",
        "* numpy.random.rand()\n",
        "* numpy.random.randn()\n",
        "* numpy.random.randint()"
      ]
    },
    {
      "cell_type": "code",
      "metadata": {
        "id": "svEpkjBvSNFK"
      },
      "source": [
        "np.random.rand(5)"
      ],
      "execution_count": null,
      "outputs": []
    },
    {
      "cell_type": "code",
      "metadata": {
        "id": "qg1C3WDSSQ5X"
      },
      "source": [
        "np.random.randn(3, 3)"
      ],
      "execution_count": null,
      "outputs": []
    },
    {
      "cell_type": "code",
      "metadata": {
        "id": "J1lkpcijSTBC"
      },
      "source": [
        "np.random.randint(10, size = (5, 3))"
      ],
      "execution_count": null,
      "outputs": []
    },
    {
      "cell_type": "markdown",
      "metadata": {
        "id": "OxrrRUpUtU2T"
      },
      "source": [
        "#### Exercise: MC Simulation\n",
        "- Pros:\n",
        "    - Short code\n",
        "    - Speedy"
      ]
    },
    {
      "cell_type": "code",
      "metadata": {
        "id": "w6MiiUxntU2U"
      },
      "source": [
        "import random\n",
        "\n",
        "N = 10000000\n",
        "m = 0\n",
        "for _ in range(N):\n",
        "    x = random.uniform(0, 1)\n",
        "    y = random.uniform(0, 1)\n",
        "    if x ** 2 + y ** 2 < 1:\n",
        "        m += 1\n",
        "        \n",
        "print(4 * m / N)"
      ],
      "execution_count": null,
      "outputs": []
    },
    {
      "cell_type": "code",
      "metadata": {
        "id": "QpvVkhgItU2V"
      },
      "source": [
        "import numpy as np\n",
        "\n",
        "x = np.random.rand(1, N)\n",
        "y = np.random.rand(1, N)\n",
        "print(4 * np.sum(x ** 2 + y ** 2 < 1) / N)"
      ],
      "execution_count": null,
      "outputs": []
    },
    {
      "cell_type": "markdown",
      "metadata": {
        "id": "5U-PvwZztU2L"
      },
      "source": [
        "### Example 5: More Array Operations\n",
        "- numpy.ndim\n",
        "- numpy.size\n",
        "- numpy.sum()\n",
        "- numpy.mean()\n",
        "- numpy.sort()\n",
        "- numpy.unique()\n",
        "- numpy.all()\n",
        "- numpy.any()\n",
        "- numpy.reshape()"
      ]
    },
    {
      "cell_type": "code",
      "metadata": {
        "id": "Ovd20Hy1tU2P"
      },
      "source": [
        "A = np.random.randint(low = -5, high = 5, size = (3, 3))\n",
        "\n",
        "print(A)"
      ],
      "execution_count": null,
      "outputs": []
    },
    {
      "cell_type": "code",
      "metadata": {
        "id": "iUr9GrWyWHvW"
      },
      "source": [
        "A.ndim"
      ],
      "execution_count": null,
      "outputs": []
    },
    {
      "cell_type": "code",
      "metadata": {
        "id": "cmK4wi57WBSW"
      },
      "source": [
        "A.shape"
      ],
      "execution_count": null,
      "outputs": []
    },
    {
      "cell_type": "code",
      "metadata": {
        "id": "l1Ho4guJtU2Q"
      },
      "source": [
        "np.sum(A)"
      ],
      "execution_count": null,
      "outputs": []
    },
    {
      "cell_type": "code",
      "metadata": {
        "id": "MPdorylbTHWW"
      },
      "source": [
        "np.sum(A, axis = 0) # by cols (row major)"
      ],
      "execution_count": null,
      "outputs": []
    },
    {
      "cell_type": "code",
      "metadata": {
        "id": "9BYFmujKTJkS"
      },
      "source": [
        "np.sum(A, axis = 1) # by rows (column major)"
      ],
      "execution_count": null,
      "outputs": []
    },
    {
      "cell_type": "code",
      "metadata": {
        "id": "acnZsz0QtU2S"
      },
      "source": [
        "np.mean(A, axis = 0)"
      ],
      "execution_count": null,
      "outputs": []
    },
    {
      "cell_type": "code",
      "metadata": {
        "id": "oJSDuY13S90W"
      },
      "source": [
        "np.mean(A, axis = 1)"
      ],
      "execution_count": null,
      "outputs": []
    },
    {
      "cell_type": "code",
      "metadata": {
        "id": "bWXyNVISTOtr"
      },
      "source": [
        "B = A.ravel()\n",
        "B"
      ],
      "execution_count": null,
      "outputs": []
    },
    {
      "cell_type": "code",
      "metadata": {
        "id": "cQ7C4I99Tnhs"
      },
      "source": [
        "np.sort(B)"
      ],
      "execution_count": null,
      "outputs": []
    },
    {
      "cell_type": "code",
      "metadata": {
        "id": "1T9cL_8uTz9K"
      },
      "source": [
        "np.unique(B)"
      ],
      "execution_count": null,
      "outputs": []
    },
    {
      "cell_type": "code",
      "metadata": {
        "id": "04bbtF_nWgpg"
      },
      "source": [
        "idx = np.where(B > 0)\n",
        "\n",
        "idx"
      ],
      "execution_count": null,
      "outputs": []
    },
    {
      "cell_type": "code",
      "metadata": {
        "id": "PEI-0vxOUSsr"
      },
      "source": [
        "B.reshape(9, 1)"
      ],
      "execution_count": null,
      "outputs": []
    },
    {
      "cell_type": "code",
      "metadata": {
        "id": "iU0d0vzVUHmK"
      },
      "source": [
        "np.all(B > 0)"
      ],
      "execution_count": null,
      "outputs": []
    },
    {
      "cell_type": "code",
      "metadata": {
        "id": "C0reGlLwULTW"
      },
      "source": [
        "np.any(B > 0)"
      ],
      "execution_count": null,
      "outputs": []
    },
    {
      "cell_type": "markdown",
      "metadata": {
        "id": "yA7YmUoVjACb"
      },
      "source": [
        "#### Exercise"
      ]
    },
    {
      "cell_type": "code",
      "metadata": {
        "id": "w3X_BWzJhZ-9"
      },
      "source": [
        "price = [10, 20, 30]\n",
        "qty = [100, 50, 10]\n",
        "tbl = np.column_stack([price, qty])\n",
        "print(tbl)"
      ],
      "execution_count": null,
      "outputs": []
    },
    {
      "cell_type": "code",
      "metadata": {
        "id": "IxnWxJ7gjDav"
      },
      "source": [
        "idx = np.where(tbl[:, 1] >= 50)\n",
        "tbl[idx, :]"
      ],
      "execution_count": null,
      "outputs": []
    },
    {
      "cell_type": "markdown",
      "metadata": {
        "id": "OO1wqwObUt61"
      },
      "source": [
        "### Example 6: Cumulative Operations\n",
        "- numpy.cummax()\n",
        "- numpy.cummin()\n",
        "- numpy.cumsum()\n",
        "- numpy.cumprod()"
      ]
    },
    {
      "cell_type": "code",
      "metadata": {
        "id": "-QEKkdHdUx6W"
      },
      "source": [
        "monthly_return_rates = np.random.randn(1, 12) / 10 + 0.1\n",
        "monthly_return_rates"
      ],
      "execution_count": null,
      "outputs": []
    },
    {
      "cell_type": "code",
      "metadata": {
        "id": "7ozAwbVaU1BY"
      },
      "source": [
        "(1 + monthly_return_rates).cumprod()"
      ],
      "execution_count": null,
      "outputs": []
    },
    {
      "cell_type": "markdown",
      "metadata": {
        "id": "iC4XLRj5XPX3"
      },
      "source": [
        "### Example 7: Transposition"
      ]
    },
    {
      "cell_type": "code",
      "metadata": {
        "id": "KJpYOW-UXOuY"
      },
      "source": [
        "A = np.random.randint(10, size = (3, 2))\n",
        "A"
      ],
      "execution_count": null,
      "outputs": []
    },
    {
      "cell_type": "code",
      "metadata": {
        "id": "Y3Xry2BwXbiJ"
      },
      "source": [
        "A.T"
      ],
      "execution_count": null,
      "outputs": []
    },
    {
      "cell_type": "markdown",
      "metadata": {
        "id": "pw-4oysxtU2c"
      },
      "source": [
        "### Example 8: Inner Product (aka Dot Product)\n",
        "- Let $u, v \\in \\mathbb{R}^{n\\times 1}$ be two column vectors.\n",
        "- Then the inner product of $u$ and $v$ is $u\\cdot v = u^T v.$"
      ]
    },
    {
      "cell_type": "code",
      "metadata": {
        "id": "WxVOtEPRtU2c"
      },
      "source": [
        "u = np.array([[1], [2], [3]])\n",
        "v = np.array([[4], [5], [6]])\n",
        "print(u)\n",
        "print(v)"
      ],
      "execution_count": null,
      "outputs": []
    },
    {
      "cell_type": "code",
      "metadata": {
        "id": "ugWeIg69W7b9"
      },
      "source": [
        "u.dot(v)"
      ],
      "execution_count": null,
      "outputs": []
    },
    {
      "cell_type": "code",
      "metadata": {
        "id": "nYeK8E1StU2e"
      },
      "source": [
        "u.T.dot(v)"
      ],
      "execution_count": null,
      "outputs": []
    },
    {
      "cell_type": "markdown",
      "metadata": {
        "id": "8d9_fduVXgty"
      },
      "source": [
        "### Example 9: Matrix Multiplication"
      ]
    },
    {
      "cell_type": "code",
      "metadata": {
        "id": "vr1626JotU2f"
      },
      "source": [
        "A = np.random.randint(-10, 10, size = (3, 3))\n",
        "x = np.random.randint(-10, 10, size = (3, 1))"
      ],
      "execution_count": null,
      "outputs": []
    },
    {
      "cell_type": "code",
      "metadata": {
        "id": "t2o3Cr-otU2i"
      },
      "source": [
        "print(A)\n",
        "print(x)"
      ],
      "execution_count": null,
      "outputs": []
    },
    {
      "cell_type": "code",
      "metadata": {
        "id": "PP36xMyrtU2j"
      },
      "source": [
        "y = A.dot(x)\n",
        "print(y)"
      ],
      "execution_count": null,
      "outputs": []
    },
    {
      "cell_type": "markdown",
      "metadata": {
        "id": "QlX7ZOVBtU2l"
      },
      "source": [
        "### Example 10: Inverse Matrix\n",
        "* It is common to solve a **set of linear equations** like:\n",
        "$$A x = y,$$\n",
        "where $A$ describes the properties of the system (represented by coefficients) and $y$ is the response (say the **initial condition** or the **boundary condition**).\n",
        "* For any square matrix $A$, $A$ is **invertible** iff $A A^{-1} = A^{-1} A = I$ where $I$ is the **identity matrix**.\n",
        "    * $A$ is invertible (and $x$ is available) if $\\det A \\neq 0$."
      ]
    },
    {
      "cell_type": "code",
      "metadata": {
        "id": "rS6SnlZ5tU2l"
      },
      "source": [
        "print(np.linalg.det(A))"
      ],
      "execution_count": null,
      "outputs": []
    },
    {
      "cell_type": "code",
      "metadata": {
        "id": "Ef2p81T8tU2n"
      },
      "source": [
        "iA = np.linalg.inv(A)\n",
        "print(iA)"
      ],
      "execution_count": null,
      "outputs": []
    },
    {
      "cell_type": "code",
      "metadata": {
        "id": "5wepxnQCtU2q"
      },
      "source": [
        "print(A.dot(iA))"
      ],
      "execution_count": null,
      "outputs": []
    },
    {
      "cell_type": "code",
      "metadata": {
        "scrolled": true,
        "id": "nfwlBoP8tU2v"
      },
      "source": [
        "print(iA.dot(A))"
      ],
      "execution_count": null,
      "outputs": []
    },
    {
      "cell_type": "markdown",
      "metadata": {
        "id": "6Buatc0SYElh"
      },
      "source": [
        "### Example 11: Singular Matrix (Not Inversible)"
      ]
    },
    {
      "cell_type": "code",
      "metadata": {
        "id": "k-YC5QnatU2x"
      },
      "source": [
        "B = np.array([[1, 2, 3], [4, 5, 6], [7, 8, 9]])\n",
        "print(B)\n",
        "print(np.linalg.det(B))"
      ],
      "execution_count": null,
      "outputs": []
    },
    {
      "cell_type": "code",
      "metadata": {
        "id": "cbLUO06vtU2z"
      },
      "source": [
        "print(np.linalg.inv(B))"
      ],
      "execution_count": null,
      "outputs": []
    },
    {
      "cell_type": "markdown",
      "metadata": {
        "id": "DBFo8OfZtU26"
      },
      "source": [
        "### References\n",
        "- Stephen H. Friedberg, Arnold J. Insel, Lawrence E. Spence, [Linear Algebra](https://www.amazon.com/Linear-Algebra-5th-Stephen-Friedberg/dp/0134860241/), 5/e, 2018\n",
        "    <img src = \"https://i.imgur.com/Si0JvQb.png\" width = 100>\n",
        "- 3Blue1Brown, https://www.youtube.com/watch?v=fNk_zzaMoSs"
      ]
    },
    {
      "cell_type": "markdown",
      "metadata": {
        "id": "TnKOKZj3tU24"
      },
      "source": [
        "## Package: SciPy\n",
        "* Tutorial: http://scipy-lectures.org/intro/scipy.html\n",
        "    * Linear algebra: ``scipy.linalg`` (provides standard linear algebra operations, relying on an underlying efficient implementation (BLAS, LAPACK).)\n",
        "        * Documentation: https://docs.scipy.org/doc/scipy/reference/linalg.html#module-scipy.linalg\n",
        "    * Interpolation: ``scipy.interpolate``\n",
        "    * Optimization and fit: ``scipy.optimize``\n",
        "    * Statistics and random numbers: ``scipy.stats``\n",
        "    * And more!!!\n",
        "* Official documentation: https://docs.scipy.org/doc/scipy/reference/tutorial/\n",
        "* Cheat sheet: https://s3.amazonaws.com/assets.datacamp.com/blog_assets/Python_SciPy_Cheat_Sheet_Linear_Algebra.pdf"
      ]
    },
    {
      "cell_type": "code",
      "metadata": {
        "id": "vy_er3CrtU24"
      },
      "source": [
        "import scipy"
      ],
      "execution_count": null,
      "outputs": []
    },
    {
      "cell_type": "markdown",
      "metadata": {
        "id": "-zQkQ5SFtU3H"
      },
      "source": [
        "### Example 1: Interpolation"
      ]
    },
    {
      "cell_type": "code",
      "metadata": {
        "id": "YUR21RZttU3H"
      },
      "source": [
        "measured_time = np.linspace(0, 1, 10)\n",
        "noise = (np.random.random(10) * 5 - 1) * 1e-1\n",
        "measures = np.sin(2 * np.pi * measured_time) + noise"
      ],
      "execution_count": null,
      "outputs": []
    },
    {
      "cell_type": "code",
      "metadata": {
        "id": "M_zgQ3-LtU3M"
      },
      "source": [
        "import matplotlib.pyplot as plt\n",
        "\n",
        "plt.figure()\n",
        "plt.plot(measured_time, measures, 'o')"
      ],
      "execution_count": null,
      "outputs": []
    },
    {
      "cell_type": "code",
      "metadata": {
        "id": "h7EOEEl5tU3O"
      },
      "source": [
        "from scipy.interpolate import interp1d\n",
        "\n",
        "linear_interp = interp1d(measured_time, measures)"
      ],
      "execution_count": null,
      "outputs": []
    },
    {
      "cell_type": "code",
      "metadata": {
        "id": "7SoHPV0XtU3R"
      },
      "source": [
        "interpolation_time = np.linspace(0, 1, 50)\n",
        "linear_results = linear_interp(interpolation_time) # linear interpolation\n",
        "\n",
        "plt.figure()\n",
        "plt.plot(measured_time, measures, 'o')\n",
        "plt.plot(interpolation_time, linear_results)"
      ],
      "execution_count": null,
      "outputs": []
    },
    {
      "cell_type": "code",
      "metadata": {
        "id": "4RHCsOpjtU3S"
      },
      "source": [
        "cubic_interp = interp1d(measured_time, measures, kind = 'cubic') # cubic spline\n",
        "cubic_results = cubic_interp(interpolation_time)\n",
        "\n",
        "plt.figure()\n",
        "plt.plot(measured_time, measures, 'o')\n",
        "plt.plot(interpolation_time, cubic_results)"
      ],
      "execution_count": null,
      "outputs": []
    },
    {
      "cell_type": "markdown",
      "metadata": {
        "id": "bRA4cdmhtU3U"
      },
      "source": [
        "### Example 2: Curve Fitting\n",
        "* https://web.stanford.edu/~boyd/cvxbook/"
      ]
    },
    {
      "cell_type": "code",
      "metadata": {
        "id": "wMtD-h89tU3U"
      },
      "source": [
        "from scipy import optimize\n",
        "import numpy as np"
      ],
      "execution_count": null,
      "outputs": []
    },
    {
      "cell_type": "code",
      "metadata": {
        "id": "I59a8o5etU3W"
      },
      "source": [
        "x_data = np.linspace(-5, 5, num = 50)\n",
        "y_data = 2.9 * np.sin(1.5 * x_data) + np.random.normal(size = 50) * 2"
      ],
      "execution_count": null,
      "outputs": []
    },
    {
      "cell_type": "code",
      "metadata": {
        "id": "Heh62B57tU3Y"
      },
      "source": [
        "plt.plot(x_data, y_data, 'o')"
      ],
      "execution_count": null,
      "outputs": []
    },
    {
      "cell_type": "code",
      "metadata": {
        "id": "Fl1I0mpltU3Z"
      },
      "source": [
        "def test_func(x, a, b):\n",
        "    return a * np.sin(b * x)"
      ],
      "execution_count": null,
      "outputs": []
    },
    {
      "cell_type": "code",
      "metadata": {
        "id": "Dfo_WqrFtU3c"
      },
      "source": [
        "params, params_covariance = optimize.curve_fit(test_func, x_data, y_data, p0 = [1, 2])\n",
        "print(params)"
      ],
      "execution_count": null,
      "outputs": []
    },
    {
      "cell_type": "code",
      "metadata": {
        "id": "rDqn1BootU3d"
      },
      "source": [
        "import matplotlib.pyplot as plt\n",
        "\n",
        "plt.figure()\n",
        "plt.plot(x_data, y_data, 'o')\n",
        "plt.plot(x_data, test_func(x_data, params[0], params[1]))"
      ],
      "execution_count": null,
      "outputs": []
    },
    {
      "cell_type": "markdown",
      "metadata": {
        "id": "TWYf8n5AtU3f"
      },
      "source": [
        "### Example 3: Finding the Minimum of a Scalar Function\n",
        "* Global minimum: a possible issue with this approach is that, if the function has local minima, the algorithm may find these local minima instead of the global minimum depending on the initial point $x_0$."
      ]
    },
    {
      "cell_type": "code",
      "metadata": {
        "id": "SEp0UM3TtU3f"
      },
      "source": [
        "def f(x):\n",
        "    return x ** 2 + 10 * np.sin(x)"
      ],
      "execution_count": null,
      "outputs": []
    },
    {
      "cell_type": "code",
      "metadata": {
        "id": "FmBhFlPftU3g"
      },
      "source": [
        "x = np.arange(-10, 10, 0.1)\n",
        "\n",
        "plt.figure()\n",
        "plt.plot(x, f(x))\n",
        "plt.grid()\n",
        "plt.show() "
      ],
      "execution_count": null,
      "outputs": []
    },
    {
      "cell_type": "code",
      "metadata": {
        "id": "yuH4vxoNtU3h"
      },
      "source": [
        "result1 = optimize.minimize(f, x0 = 0)\n",
        "print(result1)"
      ],
      "execution_count": null,
      "outputs": []
    },
    {
      "cell_type": "code",
      "metadata": {
        "id": "xkId406jtU3j"
      },
      "source": [
        "result2 = optimize.minimize(f, x0 = 7.5)\n",
        "print(result2)"
      ],
      "execution_count": null,
      "outputs": []
    },
    {
      "cell_type": "code",
      "metadata": {
        "id": "6wkLeVVutU3k"
      },
      "source": [
        "plt.figure()\n",
        "plt.plot(x, f(x))\n",
        "plt.plot(result1.x, f(result1.x), 'x') \n",
        "plt.plot(result2.x, f(result2.x), 'x') \n",
        "plt.legend([\"Function\", \"Global minimum\", \"Local minimum\"], loc = \"best\")\n",
        "plt.grid()\n",
        "plt.show() "
      ],
      "execution_count": null,
      "outputs": []
    },
    {
      "cell_type": "markdown",
      "metadata": {
        "id": "tI8pn2BZtU3n"
      },
      "source": [
        "#### Exercise: Root Finding"
      ]
    },
    {
      "cell_type": "code",
      "metadata": {
        "id": "xZn0jcZitU3n"
      },
      "source": [
        "root1 = optimize.root(f, x0 = -7.5) # try another initial guess\n",
        "print(root1)"
      ],
      "execution_count": null,
      "outputs": []
    },
    {
      "cell_type": "code",
      "metadata": {
        "id": "AZ0MjQJEtU3o"
      },
      "source": [
        "root2 = optimize.root(f, x0 = 1) # try another initial guess\n",
        "print(root2)"
      ],
      "execution_count": null,
      "outputs": []
    },
    {
      "cell_type": "code",
      "metadata": {
        "id": "f2nMU3I7tU3r"
      },
      "source": [
        "plt.figure()\n",
        "plt.plot(x, f(x))\n",
        "plt.plot(root1.x, f(root1.x), 'o')\n",
        "plt.plot(root2.x, f(root2.x), 'o')\n",
        "plt.grid()\n",
        "plt.show() "
      ],
      "execution_count": null,
      "outputs": []
    }
  ]
}