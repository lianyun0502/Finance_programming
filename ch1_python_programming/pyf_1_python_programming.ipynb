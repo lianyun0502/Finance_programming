{
  "cells": [
    {
      "cell_type": "markdown",
      "metadata": {
        "id": "7FJxB5IltaGx"
      },
      "source": [
        "# Python Crash Course\n"
      ]
    },
    {
      "cell_type": "markdown",
      "metadata": {
        "id": "novleitwtaG2"
      },
      "source": [
        "## Hello, Python.\n",
        "> Python is easy to use, powerful, and versatile, making it a great choice for beginners and experts alike. "
      ]
    },
    {
      "cell_type": "code",
      "execution_count": 1,
      "metadata": {
        "id": "rXJWS-pPtaG2"
      },
      "outputs": [
        {
          "name": "stdout",
          "output_type": "stream",
          "text": [
            "Hello, Python.\n"
          ]
        }
      ],
      "source": [
        "print(\"Hello, Python.\")"
      ]
    },
    {
      "cell_type": "markdown",
      "metadata": {
        "id": "e54FbfdMtaG3"
      },
      "source": [
        "## What is a program?\n",
        "* Program $\\approx$ Data (how to present/store data) + Algorithms (how to process data)\n"
      ]
    },
    {
      "cell_type": "markdown",
      "metadata": {
        "id": "qNWpVKIotaG3"
      },
      "source": [
        "## Variables\n",
        "* Syntax\n",
        "```python\n",
        " variable_name = value\n",
        "```\n",
        "* DO NOT use keywords as your variables.\n",
        "    * [List of Keywords in Python](https://www.programiz.com/python-programming/keyword-list)"
      ]
    },
    {
      "cell_type": "code",
      "execution_count": null,
      "metadata": {
        "id": "Xq6EHTdrtaG4"
      },
      "outputs": [],
      "source": [
        "# Input\n",
        "price = 123\n",
        "qty = 456\n",
        "\n",
        "# Algorithm\n",
        "total = price * qty\n",
        "\n",
        "# Output\n",
        "print(\"Unit price =\", price)\n",
        "print(\"Quantity =\", qty)\n",
        "print(\"Total =\", total)"
      ]
    },
    {
      "cell_type": "markdown",
      "metadata": {
        "id": "TGJlFhsRtaG4"
      },
      "source": [
        "## Data Types: Texts & Numbers"
      ]
    },
    {
      "cell_type": "markdown",
      "metadata": {
        "id": "JPuyHqqbtaG4"
      },
      "source": [
        "### Texts\n",
        "* `str`: https://docs.python.org/3/library/stdtypes.html#text-sequence-type-str"
      ]
    },
    {
      "cell_type": "code",
      "execution_count": null,
      "metadata": {
        "id": "I-gwWSXUtaG4"
      },
      "outputs": [],
      "source": [
        "# Text data, aka string\n",
        "tick = \"TSMC\" \n",
        "# You can use Chinese in python.\n",
        "name = \"台積電\" \n",
        "# Note that codec will be an issue when you deal with data from the real world."
      ]
    },
    {
      "cell_type": "code",
      "execution_count": null,
      "metadata": {
        "id": "DPfo8fCUx1Pj"
      },
      "outputs": [],
      "source": [
        "# You can concatnate two strings like below:\n",
        "fullname = tick + name\n",
        "\n",
        "print(fullname)"
      ]
    },
    {
      "cell_type": "markdown",
      "metadata": {
        "id": "pfAL7yw7taG5"
      },
      "source": [
        "### Numbers\n"
      ]
    },
    {
      "cell_type": "code",
      "execution_count": null,
      "metadata": {
        "id": "TeYspU3ltaG5"
      },
      "outputs": [],
      "source": [
        "# Let r be the annual interest rate, say 5%.\n",
        "r = 0.05 "
      ]
    },
    {
      "cell_type": "markdown",
      "metadata": {
        "id": "BPrR6B5_taG5"
      },
      "source": [
        "#### Arithmetic Operators\n",
        "* Addition: +\n",
        "* Substraction: -\n",
        "* Multiplication: *\n",
        "* Division: /\n",
        "* Exponentiation: **\n",
        "* Quotient: //\n",
        "* Modulo: %"
      ]
    },
    {
      "cell_type": "code",
      "execution_count": null,
      "metadata": {
        "id": "c233dni5taG5"
      },
      "outputs": [],
      "source": [
        "# Compounding for 10 years\n",
        "(1 + r) ** 10"
      ]
    },
    {
      "cell_type": "markdown",
      "metadata": {
        "id": "0BOooJcDtaG6"
      },
      "source": [
        "#### Machine Epsilon\n",
        "* Reasons: **finite precision** and **truncation of infinite series** (we'll see this later).\n",
        "    - `int`: 32 bits (for general discussion)\n",
        "    - `float`: 64 bits\n",
        "* If you want to avoid the machine epsilon, you may consider to use decimal fixed point and floating point arithmetic, see https://docs.python.org/3/library/decimal.html.\n",
        "* Recent news: [大立光熔斷22次是電腦惹的禍，投資人可求償](https://news.cnyes.com/news/id/3680649), 2017.1.10"
      ]
    },
    {
      "cell_type": "code",
      "execution_count": null,
      "metadata": {
        "id": "33-81uBjtaG7"
      },
      "outputs": [],
      "source": [
        "0.5 - 0.1 - 0.1 - 0.1 - 0.1 - 0.1"
      ]
    },
    {
      "cell_type": "code",
      "execution_count": null,
      "metadata": {
        "id": "A2CXcplDtaG7"
      },
      "outputs": [],
      "source": [
        "0.3 - 0.2"
      ]
    },
    {
      "cell_type": "code",
      "execution_count": null,
      "metadata": {
        "id": "F2dAq3fAtaG7"
      },
      "outputs": [],
      "source": [
        "3.14 + 1e20 - 1e20"
      ]
    },
    {
      "cell_type": "code",
      "execution_count": null,
      "metadata": {
        "id": "LosqI14etaG7"
      },
      "outputs": [],
      "source": [
        "3.14 + 1e16 - 1e16"
      ]
    },
    {
      "cell_type": "markdown",
      "metadata": {
        "id": "7o_xoe-1taG5"
      },
      "source": [
        "### Type Check\n",
        "- Python is a strong-typed language."
      ]
    },
    {
      "cell_type": "code",
      "execution_count": null,
      "metadata": {
        "id": "GEuVdI70taG6"
      },
      "outputs": [],
      "source": [
        "stock = \"2330\"\n",
        "\n",
        "type(stock)"
      ]
    },
    {
      "cell_type": "code",
      "execution_count": null,
      "metadata": {
        "id": "hOsTROZYtaG6",
        "scrolled": true
      },
      "outputs": [],
      "source": [
        "stock = 2330\n",
        "\n",
        "type(stock)"
      ]
    },
    {
      "cell_type": "code",
      "execution_count": null,
      "metadata": {
        "id": "zZCPOQUpyslb"
      },
      "outputs": [],
      "source": [
        "type(3.14)"
      ]
    },
    {
      "cell_type": "markdown",
      "metadata": {
        "id": "uNflMV73taG7"
      },
      "source": [
        "### Assignment Operator and Computation Model"
      ]
    },
    {
      "cell_type": "code",
      "execution_count": null,
      "metadata": {
        "id": "fqrIxQmvtaG8"
      },
      "outputs": [],
      "source": [
        "x = 1\n",
        "y = x + 1\n",
        "print(y)"
      ]
    },
    {
      "cell_type": "code",
      "execution_count": null,
      "metadata": {
        "id": "z0gt9gVVtaG8"
      },
      "outputs": [],
      "source": [
        "x = x + 1 # Is this weird to you?\n",
        "print(x)"
      ]
    },
    {
      "cell_type": "code",
      "execution_count": null,
      "metadata": {
        "id": "lLS73Rm71_fh"
      },
      "outputs": [],
      "source": [
        "balance = 100\n",
        "r = 0.01\n",
        "\n",
        "balance = balance * (1 + r)\n",
        "print(balance)\n",
        "balance = balance * (1 + r)\n",
        "print(balance)\n",
        "balance = balance * (1 + r)\n",
        "print(balance)"
      ]
    },
    {
      "cell_type": "markdown",
      "metadata": {
        "id": "PUSS5BK4kSdw"
      },
      "source": [
        "#### Shorthand for Assignment Operators\n",
        "* Addition: +=\n",
        "* Substraction: -=\n",
        "* Multiplication: *=\n",
        "* Division: /=\n",
        "* Exponentiation: **\n",
        "* Quotient: //=\n",
        "* Modulo: %="
      ]
    },
    {
      "cell_type": "code",
      "execution_count": null,
      "metadata": {
        "id": "IoXgwzQMkpSm"
      },
      "outputs": [],
      "source": [
        "balance *= (1 + r)\n",
        "\n",
        "print(balance)"
      ]
    },
    {
      "cell_type": "markdown",
      "metadata": {
        "id": "KPxjxY7PtaG8"
      },
      "source": [
        "## First Data Container: List\n",
        "* How to maintain a collection of data?"
      ]
    },
    {
      "cell_type": "code",
      "execution_count": null,
      "metadata": {
        "id": "_oqL-CJataG8"
      },
      "outputs": [],
      "source": [
        "pool = [\"fb\", \"amzn\", \"aapl\", \"nflx\", \"goog\"]\n",
        "\n",
        "print(pool)"
      ]
    },
    {
      "cell_type": "code",
      "execution_count": null,
      "metadata": {
        "id": "qOTb7gK8taG8"
      },
      "outputs": [],
      "source": [
        "pool.append(\"tsla\")\n",
        "print(pool)\n",
        "\n",
        "# Alternative way\n",
        "pool = pool + [\"intc\"]\n",
        "print(pool)"
      ]
    },
    {
      "cell_type": "markdown",
      "metadata": {
        "id": "qd0s0cXftaG9"
      },
      "source": [
        "### Slicing\n",
        "* Syntax \n",
        "```python\n",
        "start_idx : terminal_idx (exclusive) : steps\n",
        "```"
      ]
    },
    {
      "cell_type": "code",
      "execution_count": null,
      "metadata": {
        "id": "RFE6xgZltaG9"
      },
      "outputs": [],
      "source": [
        "# Output the first element; however, why 0?\n",
        "print(pool[0]) "
      ]
    },
    {
      "cell_type": "code",
      "execution_count": null,
      "metadata": {
        "id": "Of_TLdpxtaG9"
      },
      "outputs": [],
      "source": [
        "# Output the first 4 elements.\n",
        "print(pool[0 : 4])"
      ]
    },
    {
      "cell_type": "code",
      "execution_count": null,
      "metadata": {
        "id": "iP6o1EiptaG9"
      },
      "outputs": [],
      "source": [
        "# Output the last 3 elements.\n",
        "print(pool[-3 : ])"
      ]
    },
    {
      "cell_type": "code",
      "execution_count": null,
      "metadata": {
        "id": "fB9ET7UZtaG9"
      },
      "outputs": [],
      "source": [
        "# Output?\n",
        "print(pool[0 : 3 : 2])"
      ]
    },
    {
      "cell_type": "code",
      "execution_count": null,
      "metadata": {
        "id": "y8k6gF2RtaG9"
      },
      "outputs": [],
      "source": [
        "# Reverse order\n",
        "print(pool[::-1])"
      ]
    },
    {
      "cell_type": "markdown",
      "metadata": {
        "id": "HoSSTOzEtaG-"
      },
      "source": [
        "### APIs of Lists\n",
        "* **A**pplication **P**rogramming **I**nterface\n",
        "* What is the size of my list?\n",
        "    * Use ``len``."
      ]
    },
    {
      "cell_type": "code",
      "execution_count": null,
      "metadata": {
        "id": "R0GTcqR-taG-",
        "scrolled": true
      },
      "outputs": [],
      "source": [
        "print(len(pool)) # len(): return the number of elements in stock_pool"
      ]
    },
    {
      "cell_type": "code",
      "execution_count": null,
      "metadata": {
        "id": "eAL1xzJTtaG-"
      },
      "outputs": [],
      "source": [
        "help(list) # Help yourself. You need to learn API by RTFM."
      ]
    },
    {
      "cell_type": "markdown",
      "metadata": {
        "id": "J7vvjCZCtaG-"
      },
      "source": [
        "### More Examples for List API"
      ]
    },
    {
      "cell_type": "code",
      "execution_count": null,
      "metadata": {
        "id": "BqW1BlggtaG-"
      },
      "outputs": [],
      "source": [
        "print(\"Before sorted:\", pool)\n",
        "pool.sort()\n",
        "print(\"After sorted:\", pool)"
      ]
    },
    {
      "cell_type": "markdown",
      "metadata": {
        "id": "ri5k_1_staHA"
      },
      "source": [
        "## Flow Controls: Conditional Statements (Branching)"
      ]
    },
    {
      "cell_type": "markdown",
      "metadata": {
        "id": "eX7Z6WgdtaHA"
      },
      "source": [
        "### Relational Operators & Logical Operators\n",
        "* greater than: >\n",
        "* less than: <\n",
        "* equal to: ==\n",
        "* `and`\n",
        "* `or`"
      ]
    },
    {
      "cell_type": "markdown",
      "metadata": {
        "id": "5KjbYRB7taHA"
      },
      "source": [
        "### Syntax 1\n",
        "```python\n",
        "if condition:\n",
        "    actions\n",
        "```"
      ]
    },
    {
      "cell_type": "code",
      "execution_count": null,
      "metadata": {
        "id": "UFtdmhv3taHA"
      },
      "outputs": [],
      "source": [
        "stoploss_thr = 10\n",
        "curr_loss = 15\n",
        "\n",
        "if curr_loss >= stoploss_thr:\n",
        "    print(\"Close my position!\")"
      ]
    },
    {
      "cell_type": "markdown",
      "metadata": {
        "id": "l3ab1cAQtaHA"
      },
      "source": [
        "### Syntax 2\n",
        "\n",
        "```python\n",
        "if condition:\n",
        "    actions\n",
        "else:\n",
        "    actions\n",
        "```"
      ]
    },
    {
      "cell_type": "code",
      "execution_count": null,
      "metadata": {
        "id": "YkSgBH7CtaHA"
      },
      "outputs": [],
      "source": [
        "stoploss_thr = 10\n",
        "curr_loss = 9\n",
        "\n",
        "if curr_loss >= stoploss_thr:\n",
        "    print(\"Close my position!\")\n",
        "else:\n",
        "    print(\"Keep my position.\")"
      ]
    },
    {
      "cell_type": "markdown",
      "metadata": {
        "id": "_65_WLSItaHA"
      },
      "source": [
        "### Syntax 3\n",
        "```python\n",
        "if condition:\n",
        "    actions\n",
        "elif condition:\n",
        "    actions\n",
        ".\n",
        ".\n",
        ".\n",
        "else:\n",
        "    actions\n",
        "```"
      ]
    },
    {
      "cell_type": "code",
      "execution_count": null,
      "metadata": {
        "id": "VWM5cbxbtaHB"
      },
      "outputs": [],
      "source": [
        "indicator = -0.2\n",
        "\n",
        "if indicator > 0:\n",
        "    print(\"Create a long position.\")\n",
        "elif indicator < 0:\n",
        "    print(\"Create a short position.\")\n",
        "else:\n",
        "    print(\"Do nothing.\")"
      ]
    },
    {
      "cell_type": "markdown",
      "metadata": {
        "id": "XmBeMuFktaHB"
      },
      "source": [
        "## Loops\n",
        "- When you want to repeat some statements, you should consider to wrap those statements in loops."
      ]
    },
    {
      "cell_type": "markdown",
      "metadata": {
        "id": "Ic0XMTsrtaHB"
      },
      "source": [
        "### For Loops\n",
        "* For the cases of knowing data size or number of iteration, we may use for loops.\n",
        "* To specify the certain number of iterations, use **range(stop)** or **range(start, stop[, step])** where *stop* is exclusive.\n",
        "* (FYR) Try this game: [celebrating 50 years of kids coding by Google](https://www.google.com/doodles/celebrating-50-years-of-kids-coding)."
      ]
    },
    {
      "cell_type": "code",
      "execution_count": null,
      "metadata": {
        "id": "tHPs8P2AtaHB"
      },
      "outputs": [],
      "source": [
        "for x in range(6):\n",
        "    print(x)"
      ]
    },
    {
      "cell_type": "code",
      "execution_count": null,
      "metadata": {
        "id": "-tT7BtxKtaHB"
      },
      "outputs": [],
      "source": [
        "for x in range(1, 6, 2):\n",
        "    print(x)"
      ]
    },
    {
      "cell_type": "markdown",
      "metadata": {
        "id": "ENa35uJX8AeP"
      },
      "source": [
        "#### Example: Enumerations"
      ]
    },
    {
      "cell_type": "code",
      "execution_count": null,
      "metadata": {
        "id": "Ha27GvgQtaHC"
      },
      "outputs": [],
      "source": [
        "for item in pool:\n",
        "    print(item)\n",
        "\n",
        "# However, you don't need to do this because you could have the same result by calling print(pool)."
      ]
    },
    {
      "cell_type": "code",
      "execution_count": null,
      "metadata": {
        "id": "IUzp8qTq8InT"
      },
      "outputs": [],
      "source": [
        "for idx, item in enumerate(pool):\n",
        "    print(idx, item)"
      ]
    },
    {
      "cell_type": "markdown",
      "metadata": {
        "id": "9rWrQSCNmalM"
      },
      "source": [
        "### Loop Design Strategy\n",
        "- Find the repeated statements.\n",
        "- Wrap these statement in one loop.\n",
        "- Set an appropriate continuation condition."
      ]
    },
    {
      "cell_type": "code",
      "execution_count": null,
      "metadata": {
        "id": "9AG4Mihjm2iJ"
      },
      "outputs": [],
      "source": [
        "# We use the import statements to include external tools in our program\n",
        "# In the following case, we import the random module to generate some testing numbers.\n",
        "import random\n",
        "\n",
        "random.seed(101)\n",
        "\n",
        "# Daily prices\n",
        "prices = []\n",
        "for _ in range(5):\n",
        "    prices.append(random.uniform(0, 100))\n",
        "print(\"Daily close prices =\", prices)"
      ]
    },
    {
      "cell_type": "code",
      "execution_count": null,
      "metadata": {
        "id": "WmAoEUikpA9o"
      },
      "outputs": [],
      "source": [
        "# How to calculate the daily returns?\n",
        "\n",
        "daily_returns = []\n",
        "daily_returns.append(prices[1] - prices[0])\n",
        "daily_returns.append(prices[2] - prices[1])\n",
        "daily_returns.append(prices[3] - prices[2])\n",
        "daily_returns.append(prices[4] - prices[3])\n",
        "\n",
        "print(daily_returns)"
      ]
    },
    {
      "cell_type": "code",
      "execution_count": null,
      "metadata": {
        "id": "qehoDWiupuCY"
      },
      "outputs": [],
      "source": [
        "# Now apply the design strategy to these statements.\n",
        "\n",
        "daily_returns = []\n",
        "for i in range(1, len(prices)):\n",
        "    daily_returns.append(prices[i] - prices[i - 1])\n",
        "\n",
        "print(daily_returns)"
      ]
    },
    {
      "cell_type": "markdown",
      "metadata": {
        "id": "1Y5vpgPotaHC"
      },
      "source": [
        "#### Example: Estimating $\\pi$ by Monte Carlo (MC) Simulation\n",
        "* The MC algorithm is as follows:\n",
        "    * Set the number of samples $N = $1e5 and the number of points falling in the quarter circle $M = 0$.\n",
        "    * For each sample, use random.uniform(0, 1) to generate a sample point within a unit square.\n",
        "    * If this point falls in the quarter circle, then $M = M + 1$.\n",
        "    * Calculate the estimator $\\hat{\\pi} = \\dfrac{4 \\times M}{N}$, which is approaching the true value $\\pi$ as $N \\rightarrow \\infty$ (check the law of large number, LLN).\n",
        "![](https://upload.wikimedia.org/wikipedia/commons/thumb/8/84/Pi_30K.gif/220px-Pi_30K.gif)"
      ]
    },
    {
      "cell_type": "code",
      "execution_count": null,
      "metadata": {
        "id": "y8J0sHobtaHC"
      },
      "outputs": [],
      "source": [
        "import random\n",
        "\n",
        "# Parameter\n",
        "N = 100000\n",
        "\n",
        "# Algorithm\n",
        "M = 0\n",
        "for i in range(N):\n",
        "    \n",
        "    # Draw one sample\n",
        "    x = random.uniform(0, 1)\n",
        "    y = random.uniform(0, 1)\n",
        "    \n",
        "    if x * x + y * y < 1:\n",
        "        M += 1 # This is equivalent to M = M + 1. \n",
        "\n",
        "# Output\n",
        "print(4 * M / N)"
      ]
    },
    {
      "cell_type": "markdown",
      "metadata": {
        "id": "_rmPbnjPtaHD"
      },
      "source": [
        "### While Loop\n",
        "* Compared to for loops, you may use while loops for the cases when the number of iteration is unknown."
      ]
    },
    {
      "cell_type": "markdown",
      "metadata": {
        "id": "77_NG0PptaHD"
      },
      "source": [
        "#### Example: <a href = \"https://en.wikipedia.org/wiki/Bisection_method\">Bisection Method</a>\n",
        "* This algorithm is used to find a root of math functions when the ``initial search interval`` is given and the ``error tolerance`` is preset.\n",
        "* We will apply this root-finding algorithm to the implied volatility later.\n",
        "* If you cannot imagine how the algorithm goes, try this <a href = \"https://www.funbrain.com/games/guess-the-number\">game</a>.\n",
        "<p><a href=\"https://commons.wikimedia.org/wiki/File:Bisection_method.svg#/media/File:Bisection_method.svg\"><img src=\"https://upload.wikimedia.org/wikipedia/commons/8/8c/Bisection_method.svg\" alt=\"Bisection method.svg\" height=\"480\" width=\"412\"></a><br>By <a class=\"mw-selflink selflink\">Bisection_method.svg</a>: Tokuchan\n",
        "derivative work: <a href=\"//commons.wikimedia.org/w/index.php?title=User:Tokuchan&amp;action=edit&amp;redlink=1\" class=\"new\" title=\"User:Tokuchan (page does not exist)\">Tokuchan</a> (<a href=\"//commons.wikimedia.org/w/index.php?title=User_talk:Tokuchan&amp;action=edit&amp;redlink=1\" class=\"new\" title=\"User talk:Tokuchan (page does not exist)\"><span class=\"signature-talk\">talk</span></a>) - <a class=\"mw-selflink selflink\">Bisection_method.svg</a>, <a href=\"http://creativecommons.org/licenses/by-sa/3.0/\" title=\"Creative Commons Attribution-Share Alike 3.0\">CC BY-SA 3.0</a>, <a href=\"https://commons.wikimedia.org/w/index.php?curid=9382140\">Link</a></p>"
      ]
    },
    {
      "cell_type": "code",
      "execution_count": null,
      "metadata": {
        "id": "Q6kSFsFdtaHE"
      },
      "outputs": [],
      "source": [
        "# To solve x ** 3 - x - 2 = 0.\n",
        "\n",
        "# Set the search interval [a, b]\n",
        "a = 1 # low\n",
        "b = 2 # high\n",
        "\n",
        "# Set the error tolerance\n",
        "eps = 1e-9 # tolerance\n",
        "\n",
        "while b - a > eps:\n",
        "\n",
        "    # Calculate the middle point between a and b\n",
        "    c = (a + b) / 2\n",
        "    \n",
        "    # Calculate the function values for each point\n",
        "    fa = a ** 3 - a - 2\n",
        "    fb = b ** 3 - b - 2\n",
        "    fc = c ** 3 - c - 2\n",
        "\n",
        "    if fa * fc < 0:\n",
        "        # Update b since the root is located in the left region\n",
        "        b = c \n",
        "    else:\n",
        "        # Update a since the root is located in the right region\n",
        "        a = c \n",
        "\n",
        "print(\"root =\", c)\n",
        "print(\"residual =\", c ** 3 - c - 2)\n"
      ]
    },
    {
      "cell_type": "markdown",
      "metadata": {
        "id": "6EZxWrAL-v6O"
      },
      "source": [
        "### Jump Statements\n",
        "* continue: skip this iteration\n",
        "* break: early termination\n",
        "* pass: no action"
      ]
    },
    {
      "cell_type": "code",
      "execution_count": null,
      "metadata": {
        "id": "81ld3Zd7taHE"
      },
      "outputs": [],
      "source": [
        "for n in range(10):\n",
        "    if n == 5:\n",
        "        continue\n",
        "    print(n, end = \" \")\n",
        "    # The end parameter is used to specify the symbol after output."
      ]
    },
    {
      "cell_type": "code",
      "execution_count": null,
      "metadata": {
        "id": "Sv5yhVlk-y6S"
      },
      "outputs": [],
      "source": [
        "for n in range(10):\n",
        "    if n == 5:\n",
        "        break\n",
        "    print(n, end = \" \")"
      ]
    },
    {
      "cell_type": "code",
      "execution_count": null,
      "metadata": {
        "id": "DJoAKZLh-0S1"
      },
      "outputs": [],
      "source": [
        "for n in range(10):\n",
        "    if n == 5:\n",
        "        pass\n",
        "    print(n, end = \" \")"
      ]
    },
    {
      "cell_type": "markdown",
      "metadata": {
        "id": "a6JHn5Sx_Mrp"
      },
      "source": [
        "## Functions\n",
        "* Used for code reuse\n",
        "* Also used for action abstraction: information hiding, simplifying program structure\n",
        "\n",
        "```python\n",
        "def function_name(input):\n",
        "    # body statements\n",
        "    return output\n",
        "```"
      ]
    },
    {
      "cell_type": "code",
      "execution_count": null,
      "metadata": {
        "id": "NQgGn4Vx_lWn"
      },
      "outputs": [],
      "source": [
        "def f(x):\n",
        "    return x ** 3 - x - 2\n",
        "\n",
        "a = 1 \n",
        "b = 2\n",
        "eps = 1e-9\n",
        "\n",
        "while b - a > eps:\n",
        "    c = (a + b) / 2\n",
        "    if f(a) * f(c) < 0:\n",
        "        b = c\n",
        "    else:\n",
        "        a = c\n",
        "\n",
        "print(\"root =\", c)\n",
        "print(\"residual =\", f(c))"
      ]
    },
    {
      "cell_type": "markdown",
      "metadata": {
        "id": "S424WJB0BP6D"
      },
      "source": [
        "### Anonymous Function: $\\lambda$ Expression\n",
        "```python\n",
        "function_handle = lambda input_list: function body\n",
        "```"
      ]
    },
    {
      "cell_type": "code",
      "execution_count": null,
      "metadata": {
        "id": "EGWlySeCBiKf"
      },
      "outputs": [],
      "source": [
        "f = lambda x : x ** 3 - x - 2\n",
        "\n",
        "print(f(10))"
      ]
    },
    {
      "cell_type": "markdown",
      "metadata": {
        "id": "K8vlJUjgZPtP"
      },
      "source": [
        "#### Functional Programming Style: No More Loops!\n"
      ]
    },
    {
      "cell_type": "code",
      "execution_count": null,
      "metadata": {
        "id": "oq9bdeJfZOjq"
      },
      "outputs": [],
      "source": [
        "import random\n",
        "\n",
        "# Algorithm parameters\n",
        "N = 100000\n",
        "\n",
        "# Sampling\n",
        "x = [random.uniform(0, 1) for _ in range(N)]\n",
        "y = [random.uniform(0, 1) for _ in range(N)]\n",
        "pairs = tuple(zip(x, y))\n",
        "\n",
        "# Filtering\n",
        "predicate = lambda x : x[0] ** 2 + x[1] ** 2 < 1\n",
        "M = len(list(filter(predicate, pairs)))\n",
        "\n",
        "# Output\n",
        "print(4 * M / N)"
      ]
    }
  ],
  "metadata": {
    "colab": {
      "collapsed_sections": [],
      "name": "pyf_1_python_programming.ipynb",
      "provenance": []
    },
    "kernelspec": {
      "display_name": "Python 3",
      "language": "python",
      "name": "python3"
    },
    "language_info": {
      "codemirror_mode": {
        "name": "ipython",
        "version": 3
      },
      "file_extension": ".py",
      "mimetype": "text/x-python",
      "name": "python",
      "nbconvert_exporter": "python",
      "pygments_lexer": "ipython3",
      "version": "3.9.11"
    }
  },
  "nbformat": 4,
  "nbformat_minor": 0
}
