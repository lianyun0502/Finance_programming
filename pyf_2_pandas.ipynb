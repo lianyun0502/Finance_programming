{
  "nbformat": 4,
  "nbformat_minor": 0,
  "metadata": {
    "kernelspec": {
      "display_name": "Python 3",
      "language": "python",
      "name": "python3"
    },
    "language_info": {
      "codemirror_mode": {
        "name": "ipython",
        "version": 3
      },
      "file_extension": ".py",
      "mimetype": "text/x-python",
      "name": "python",
      "nbconvert_exporter": "python",
      "pygments_lexer": "ipython3",
      "version": "3.7.6"
    },
    "colab": {
      "name": "pyf_2_pandas.ipynb",
      "provenance": [],
      "collapsed_sections": []
    }
  },
  "cells": [
    {
      "cell_type": "markdown",
      "metadata": {
        "id": "G-OmpswItUy6"
      },
      "source": [
        "# Package: pandas\n",
        "<img src = \"https://s3-ap-south-1.amazonaws.com/av-blog-media/wp-content/uploads/2018/03/pandas.jpg\" width = 200></img>\n",
        "* We will focus on **DataFrame**.\n",
        "* There are useful functions built in DataFrame:\n",
        "    * read_csv(), read_excel()\n",
        "    * sort_index(), sort_values(), dropna(), fillna()\n",
        "    * head(), tail(), info(), shape, count()\n",
        "    * index, columns, values\n",
        "    * plot.line(), hist()\n",
        "    * loc(), iloc()\n",
        "    * mean(), std(), max(), min(), describe(), pct_change()\n",
        "    * rolling(), apply()\n",
        "    * pd.concat(), pd.merge()\n",
        "* We start with the market data of 2330 and accomplish the following tasks:\n",
        "    * Reading data from excel files;\n",
        "    * Preprocessing data: dealing with the index;\n",
        "    * Making plots for the data;\n",
        "    * Making a birdview of the table;\n",
        "    * Accessing data;\n",
        "    * Calculating some indicators;\n",
        "    * Output to files."
      ]
    },
    {
      "cell_type": "code",
      "metadata": {
        "id": "DH40q_AHkwTT"
      },
      "source": [
        "!wget https://www.csie.ntu.edu.tw/~d00922011/python/data/2330tw.xlsx"
      ],
      "execution_count": null,
      "outputs": []
    },
    {
      "cell_type": "code",
      "metadata": {
        "scrolled": true,
        "id": "Dixi5-dZtUy6"
      },
      "source": [
        "import pandas as pd\n",
        "\n",
        "df = pd.read_excel(\"2330tw.xlsx\")\n",
        "df.head()"
      ],
      "execution_count": null,
      "outputs": []
    },
    {
      "cell_type": "markdown",
      "metadata": {
        "id": "DlHySqKKAv9Z"
      },
      "source": [
        "## Preprocessing: Index"
      ]
    },
    {
      "cell_type": "code",
      "metadata": {
        "scrolled": true,
        "id": "m0Ro3ngMtUy6"
      },
      "source": [
        "df.sort_values(by = \"Date\", inplace = True, ascending = True) # df = df.sort_values(by = \"Date\", ascending = True)\n",
        "\n",
        "df.head()"
      ],
      "execution_count": null,
      "outputs": []
    },
    {
      "cell_type": "code",
      "metadata": {
        "id": "yBGXXhAqA2GL"
      },
      "source": [
        "df[\"Date\"] = pd.to_datetime(df[\"Date\"]) # convert date strings to datetime objects\n",
        "df.set_index(\"Date\", inplace = True)"
      ],
      "execution_count": null,
      "outputs": []
    },
    {
      "cell_type": "code",
      "metadata": {
        "id": "8-B0kDg8A4KZ"
      },
      "source": [
        "df.head() # show the first 5 items"
      ],
      "execution_count": null,
      "outputs": []
    },
    {
      "cell_type": "markdown",
      "metadata": {
        "id": "ozpe77wfA6qj"
      },
      "source": [
        "## Birdview of Table"
      ]
    },
    {
      "cell_type": "code",
      "metadata": {
        "id": "eqgNFbQFA6Px"
      },
      "source": [
        "df.info()"
      ],
      "execution_count": null,
      "outputs": []
    },
    {
      "cell_type": "code",
      "metadata": {
        "id": "nkDwZ3IpA9yz"
      },
      "source": [
        "df.index"
      ],
      "execution_count": null,
      "outputs": []
    },
    {
      "cell_type": "code",
      "metadata": {
        "id": "UihJZoxGA_7k"
      },
      "source": [
        "df.columns"
      ],
      "execution_count": null,
      "outputs": []
    },
    {
      "cell_type": "code",
      "metadata": {
        "id": "UDF9DF0MBBZS"
      },
      "source": [
        "df.values"
      ],
      "execution_count": null,
      "outputs": []
    },
    {
      "cell_type": "code",
      "metadata": {
        "id": "YsLLMmjJBDNP"
      },
      "source": [
        "df.describe()"
      ],
      "execution_count": null,
      "outputs": []
    },
    {
      "cell_type": "markdown",
      "metadata": {
        "id": "6z5MxSqNCa_n"
      },
      "source": [
        "## Data Access\n"
      ]
    },
    {
      "cell_type": "markdown",
      "metadata": {
        "id": "ILVCWNS0CdV8"
      },
      "source": [
        "### Column Selection by Name"
      ]
    },
    {
      "cell_type": "code",
      "metadata": {
        "id": "HlSEQ4lfCgQz"
      },
      "source": [
        "df[\"Close\"]"
      ],
      "execution_count": null,
      "outputs": []
    },
    {
      "cell_type": "markdown",
      "metadata": {
        "id": "9O1lq6EGCj7z"
      },
      "source": [
        "### Row Selection by Index Label"
      ]
    },
    {
      "cell_type": "code",
      "metadata": {
        "id": "rWtCcGnZCiR3"
      },
      "source": [
        "df.loc[\"2021-02-25\"]"
      ],
      "execution_count": null,
      "outputs": []
    },
    {
      "cell_type": "code",
      "metadata": {
        "id": "hTYwFUkiCsQ2"
      },
      "source": [
        "df.loc[\"2021-02-01\" : \"2021-02-28\"]"
      ],
      "execution_count": null,
      "outputs": []
    },
    {
      "cell_type": "markdown",
      "metadata": {
        "id": "jSlISXcjC061"
      },
      "source": [
        "### Data Selection by Index Location: iloc()"
      ]
    },
    {
      "cell_type": "code",
      "metadata": {
        "id": "WJSBQvrrC2SJ"
      },
      "source": [
        "df.iloc[-5:] # last 5 trading days"
      ],
      "execution_count": null,
      "outputs": []
    },
    {
      "cell_type": "code",
      "metadata": {
        "id": "-AMvTt3CDFrl"
      },
      "source": [
        "df.index[-1]"
      ],
      "execution_count": null,
      "outputs": []
    },
    {
      "cell_type": "markdown",
      "metadata": {
        "id": "8aH_Hsp7BLBL"
      },
      "source": [
        "## Plotting"
      ]
    },
    {
      "cell_type": "code",
      "metadata": {
        "scrolled": true,
        "id": "e-z40ZFCtUy6"
      },
      "source": [
        "df[\"Close\"].plot.line(grid = True)"
      ],
      "execution_count": null,
      "outputs": []
    },
    {
      "cell_type": "code",
      "metadata": {
        "scrolled": true,
        "id": "hcW88G6ltUy7"
      },
      "source": [
        "ax = df[[\"Open\", \"High\", \"Low\", \"Close\"]][-100:].plot.line(grid = True)\n",
        "ax.set_ylabel(\"Price\")"
      ],
      "execution_count": null,
      "outputs": []
    },
    {
      "cell_type": "code",
      "metadata": {
        "scrolled": true,
        "id": "cEv020ZRtUy7"
      },
      "source": [
        "?df.plot"
      ],
      "execution_count": null,
      "outputs": []
    },
    {
      "cell_type": "code",
      "metadata": {
        "scrolled": true,
        "id": "kzNy3xPftUy7"
      },
      "source": [
        "df[\"Volume\"][-100:].plot.bar() # See https://stackoverflow.com/questions/30133280/pandas-bar-plot-changes-date-format"
      ],
      "execution_count": null,
      "outputs": []
    },
    {
      "cell_type": "markdown",
      "metadata": {
        "id": "YypiPSs9D0PV"
      },
      "source": [
        "### Calculation: rolling(), mean()"
      ]
    },
    {
      "cell_type": "code",
      "metadata": {
        "scrolled": true,
        "id": "Ydwn8oh4tUy7"
      },
      "source": [
        "df[\"SMA5\"] = df[\"Close\"].rolling(5).mean() # SMA: simple moving average"
      ],
      "execution_count": null,
      "outputs": []
    },
    {
      "cell_type": "code",
      "metadata": {
        "scrolled": true,
        "id": "GTU6rCDRtUy7"
      },
      "source": [
        "df[[\"Close\", \"SMA5\"]].plot.line(grid = True)"
      ],
      "execution_count": null,
      "outputs": []
    },
    {
      "cell_type": "markdown",
      "metadata": {
        "id": "PDLXSPzJD7Vg"
      },
      "source": [
        "#### Exercise: Bias"
      ]
    },
    {
      "cell_type": "code",
      "metadata": {
        "scrolled": true,
        "id": "gFDilcp0tUy7"
      },
      "source": [
        "df[\"BIAS\"] = (df[\"Close\"] - df[\"SMA5\"]) / df[\"SMA5\"] * 100\n",
        "ax = df[\"BIAS\"].plot.line(grid = True)\n",
        "ax.set_ylabel(\"Bias (%)\")"
      ],
      "execution_count": null,
      "outputs": []
    },
    {
      "cell_type": "markdown",
      "metadata": {
        "id": "mtKdMKlhEAmN"
      },
      "source": [
        "### Calculation: Percentage Change"
      ]
    },
    {
      "cell_type": "code",
      "metadata": {
        "scrolled": true,
        "id": "VtzwJjcgtUy7"
      },
      "source": [
        "df[\"Return rate (%)\"] = df[\"Close\"].pct_change() * 100"
      ],
      "execution_count": null,
      "outputs": []
    },
    {
      "cell_type": "code",
      "metadata": {
        "scrolled": true,
        "id": "y1OKvyiptUy7"
      },
      "source": [
        "df[\"Return rate (%)\"].plot.line(grid = True)"
      ],
      "execution_count": null,
      "outputs": []
    },
    {
      "cell_type": "code",
      "metadata": {
        "scrolled": true,
        "id": "u6yElwFItUy7"
      },
      "source": [
        "ax = df[\"Return rate (%)\"].plot.hist(bins = 30, grid = True)\n",
        "ax.set_xlabel(\"Return rate (%)\")"
      ],
      "execution_count": null,
      "outputs": []
    },
    {
      "cell_type": "markdown",
      "metadata": {
        "id": "NhgL9Ae0SVhR"
      },
      "source": [
        "### Output to Files"
      ]
    },
    {
      "cell_type": "code",
      "metadata": {
        "id": "Q8rAQHlJErfV"
      },
      "source": [
        "df.to_excel(\"output.xlsx\") # output to a excel file"
      ],
      "execution_count": null,
      "outputs": []
    },
    {
      "cell_type": "markdown",
      "metadata": {
        "id": "yInjElg9tUy7"
      },
      "source": [
        "## More Examples: Data Acquisition with Pandas"
      ]
    },
    {
      "cell_type": "markdown",
      "metadata": {
        "id": "JbxvfwhftUy7"
      },
      "source": [
        "### Example 1: 三大法人買賣日報表"
      ]
    },
    {
      "cell_type": "code",
      "metadata": {
        "scrolled": true,
        "id": "g86N_nvJtUy7"
      },
      "source": [
        "import os\n",
        "import requests\n",
        "import pandas as pd\n",
        "from datetime import datetime\n",
        "from io import StringIO\n",
        "\n",
        "def crawler(date):\n",
        "    \n",
        "    r = requests.get('http://www.tse.com.tw/fund/T86?response=csv&date={0}&selectType=ALLBUT0999'.format(date))\n",
        "    df = pd.read_csv(StringIO(r.text), header = 1).dropna(how = 'all', axis = 1).dropna(how = 'any')\n",
        "    \n",
        "    df = df.astype(str).apply(lambda s: s.str.replace(',', ''))\n",
        "    df['stock_id'] = df['證券代號'].str.replace('=', '').str.replace('\"', '')\n",
        "    df = df.set_index('stock_id')\n",
        "    \n",
        "    return df.apply(lambda s: pd.to_numeric(s, errors = 'coerce')).dropna(how = 'all', axis = 1)"
      ],
      "execution_count": null,
      "outputs": []
    },
    {
      "cell_type": "code",
      "metadata": {
        "scrolled": true,
        "id": "KnBnfn4atUy7"
      },
      "source": [
        "df = crawler(\"20210528\")\n",
        "\n",
        "df.head(10)"
      ],
      "execution_count": null,
      "outputs": []
    },
    {
      "cell_type": "code",
      "metadata": {
        "id": "7bJoQ2lSFABm"
      },
      "source": [
        "df.loc[\"2330\"]"
      ],
      "execution_count": null,
      "outputs": []
    },
    {
      "cell_type": "markdown",
      "metadata": {
        "id": "rXO-kQJEtUy8"
      },
      "source": [
        "### Example 2: Pandas Datareader\n",
        "* Official website: https://pandas-datareader.readthedocs.io/en/latest/"
      ]
    },
    {
      "cell_type": "code",
      "metadata": {
        "scrolled": false,
        "id": "fDJz0yh_tUy8"
      },
      "source": [
        "!pip install pandas_datareader"
      ],
      "execution_count": null,
      "outputs": []
    },
    {
      "cell_type": "markdown",
      "metadata": {
        "id": "pVHChXsEtUy8"
      },
      "source": [
        "* Free to register for API KEY: https://www.alphavantage.co/\n",
        "* Note that only 500 requests per day."
      ]
    },
    {
      "cell_type": "code",
      "metadata": {
        "scrolled": true,
        "id": "cb5lkYu1tUy8"
      },
      "source": [
        "import os\n",
        "import pandas_datareader.data as web\n",
        "from datetime import datetime\n",
        "\n",
        "f = web.DataReader(\"AAPL\", \"av-daily\", \n",
        "          start = datetime(2020, 1, 1),\n",
        "           end = datetime(2021, 4, 20),\n",
        "         api_key = \"0CW0TVWZO87J25H2\")\n",
        "f"
      ],
      "execution_count": null,
      "outputs": []
    },
    {
      "cell_type": "markdown",
      "metadata": {
        "id": "jVzlUlY3tUy8"
      },
      "source": [
        "### Example 3: Real-Time Foreign Exchange from Alpha Vantage"
      ]
    },
    {
      "cell_type": "code",
      "metadata": {
        "scrolled": true,
        "id": "SCtfgAb0tUy8"
      },
      "source": [
        "import os\n",
        "import pandas_datareader.data as web\n",
        "from datetime import datetime\n",
        "\n",
        "fx = web.DataReader([\"USD/JPY\", \"BTC/USD\"], \"av-forex\", api_key = \"0CW0TVWZO87J25H2\")\n",
        "print(fx)"
      ],
      "execution_count": null,
      "outputs": []
    }
  ]
}