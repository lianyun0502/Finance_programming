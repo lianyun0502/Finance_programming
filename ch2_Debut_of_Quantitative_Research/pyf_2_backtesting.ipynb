{
 "cells": [
  {
   "cell_type": "markdown",
   "metadata": {
    "id": "UPIPE57C-VBr"
   },
   "source": [
    "# Package: backtesting\n",
    "- References:\n",
    "    - Official website: https://kernc.github.io/backtesting.py/doc/backtesting/#gsc.tab=0\n",
    "    - Quick starter: https://kernc.github.io/backtesting.py/doc/examples/Quick%20Start%20User%20Guide.html\n"
   ]
  },
  {
   "cell_type": "code",
   "execution_count": null,
   "metadata": {
    "id": "L_UvoGbhkfZl"
   },
   "outputs": [],
   "source": [
    "%%capture\n",
    "\n",
    "!pip install --upgrade pandas-datareader\n",
    "!pip install ffn backtesting"
   ]
  },
  {
   "cell_type": "code",
   "execution_count": 1,
   "metadata": {
    "id": "BQUgx8mMku79"
   },
   "outputs": [],
   "source": [
    "import ffn\n",
    "from backtesting import Backtest, Strategy"
   ]
  },
  {
   "cell_type": "markdown",
   "metadata": {
    "id": "pvwjUT1ulwDm"
   },
   "source": [
    "## Example"
   ]
  },
  {
   "cell_type": "code",
   "execution_count": 2,
   "metadata": {
    "id": "OjF6smAhFaGJ"
   },
   "outputs": [
    {
     "name": "stderr",
     "output_type": "stream",
     "text": [
      "c:\\Users\\eric.li\\Desktop\\My Github\\Finance_programming\\.venv\\lib\\site-packages\\backtesting\\test\\__init__.py:8: FutureWarning: The argument 'infer_datetime_format' is deprecated and will be removed in a future version. A strict version of it is now the default, see https://pandas.pydata.org/pdeps/0004-consistent-to-datetime-parsing.html. You can safely remove this argument.\n",
      "  return pd.read_csv(join(dirname(__file__), filename),\n",
      "c:\\Users\\eric.li\\Desktop\\My Github\\Finance_programming\\.venv\\lib\\site-packages\\backtesting\\test\\__init__.py:8: FutureWarning: The argument 'infer_datetime_format' is deprecated and will be removed in a future version. A strict version of it is now the default, see https://pandas.pydata.org/pdeps/0004-consistent-to-datetime-parsing.html. You can safely remove this argument.\n",
      "  return pd.read_csv(join(dirname(__file__), filename),\n"
     ]
    },
    {
     "data": {
      "text/html": [
       "<div>\n",
       "<style scoped>\n",
       "    .dataframe tbody tr th:only-of-type {\n",
       "        vertical-align: middle;\n",
       "    }\n",
       "\n",
       "    .dataframe tbody tr th {\n",
       "        vertical-align: top;\n",
       "    }\n",
       "\n",
       "    .dataframe thead th {\n",
       "        text-align: right;\n",
       "    }\n",
       "</style>\n",
       "<table border=\"1\" class=\"dataframe\">\n",
       "  <thead>\n",
       "    <tr style=\"text-align: right;\">\n",
       "      <th></th>\n",
       "      <th>Open</th>\n",
       "      <th>High</th>\n",
       "      <th>Low</th>\n",
       "      <th>Close</th>\n",
       "      <th>Volume</th>\n",
       "    </tr>\n",
       "  </thead>\n",
       "  <tbody>\n",
       "    <tr>\n",
       "      <th>2004-08-19</th>\n",
       "      <td>100.00</td>\n",
       "      <td>104.06</td>\n",
       "      <td>95.96</td>\n",
       "      <td>100.34</td>\n",
       "      <td>22351900</td>\n",
       "    </tr>\n",
       "    <tr>\n",
       "      <th>2004-08-20</th>\n",
       "      <td>101.01</td>\n",
       "      <td>109.08</td>\n",
       "      <td>100.50</td>\n",
       "      <td>108.31</td>\n",
       "      <td>11428600</td>\n",
       "    </tr>\n",
       "    <tr>\n",
       "      <th>2004-08-23</th>\n",
       "      <td>110.75</td>\n",
       "      <td>113.48</td>\n",
       "      <td>109.05</td>\n",
       "      <td>109.40</td>\n",
       "      <td>9137200</td>\n",
       "    </tr>\n",
       "    <tr>\n",
       "      <th>2004-08-24</th>\n",
       "      <td>111.24</td>\n",
       "      <td>111.60</td>\n",
       "      <td>103.57</td>\n",
       "      <td>104.87</td>\n",
       "      <td>7631300</td>\n",
       "    </tr>\n",
       "    <tr>\n",
       "      <th>2004-08-25</th>\n",
       "      <td>104.96</td>\n",
       "      <td>108.00</td>\n",
       "      <td>103.88</td>\n",
       "      <td>106.00</td>\n",
       "      <td>4598900</td>\n",
       "    </tr>\n",
       "    <tr>\n",
       "      <th>...</th>\n",
       "      <td>...</td>\n",
       "      <td>...</td>\n",
       "      <td>...</td>\n",
       "      <td>...</td>\n",
       "      <td>...</td>\n",
       "    </tr>\n",
       "    <tr>\n",
       "      <th>2013-02-25</th>\n",
       "      <td>802.30</td>\n",
       "      <td>808.41</td>\n",
       "      <td>790.49</td>\n",
       "      <td>790.77</td>\n",
       "      <td>2303900</td>\n",
       "    </tr>\n",
       "    <tr>\n",
       "      <th>2013-02-26</th>\n",
       "      <td>795.00</td>\n",
       "      <td>795.95</td>\n",
       "      <td>784.40</td>\n",
       "      <td>790.13</td>\n",
       "      <td>2202500</td>\n",
       "    </tr>\n",
       "    <tr>\n",
       "      <th>2013-02-27</th>\n",
       "      <td>794.80</td>\n",
       "      <td>804.75</td>\n",
       "      <td>791.11</td>\n",
       "      <td>799.78</td>\n",
       "      <td>2026100</td>\n",
       "    </tr>\n",
       "    <tr>\n",
       "      <th>2013-02-28</th>\n",
       "      <td>801.10</td>\n",
       "      <td>806.99</td>\n",
       "      <td>801.03</td>\n",
       "      <td>801.20</td>\n",
       "      <td>2265800</td>\n",
       "    </tr>\n",
       "    <tr>\n",
       "      <th>2013-03-01</th>\n",
       "      <td>797.80</td>\n",
       "      <td>807.14</td>\n",
       "      <td>796.15</td>\n",
       "      <td>806.19</td>\n",
       "      <td>2175400</td>\n",
       "    </tr>\n",
       "  </tbody>\n",
       "</table>\n",
       "<p>2148 rows × 5 columns</p>\n",
       "</div>"
      ],
      "text/plain": [
       "              Open    High     Low   Close    Volume\n",
       "2004-08-19  100.00  104.06   95.96  100.34  22351900\n",
       "2004-08-20  101.01  109.08  100.50  108.31  11428600\n",
       "2004-08-23  110.75  113.48  109.05  109.40   9137200\n",
       "2004-08-24  111.24  111.60  103.57  104.87   7631300\n",
       "2004-08-25  104.96  108.00  103.88  106.00   4598900\n",
       "...            ...     ...     ...     ...       ...\n",
       "2013-02-25  802.30  808.41  790.49  790.77   2303900\n",
       "2013-02-26  795.00  795.95  784.40  790.13   2202500\n",
       "2013-02-27  794.80  804.75  791.11  799.78   2026100\n",
       "2013-02-28  801.10  806.99  801.03  801.20   2265800\n",
       "2013-03-01  797.80  807.14  796.15  806.19   2175400\n",
       "\n",
       "[2148 rows x 5 columns]"
      ]
     },
     "execution_count": 2,
     "metadata": {},
     "output_type": "execute_result"
    }
   ],
   "source": [
    "from backtesting.test import GOOG\n",
    "\n",
    "GOOG"
   ]
  },
  {
   "cell_type": "code",
   "execution_count": null,
   "metadata": {
    "id": "4wNXf6Lpk4K1"
   },
   "outputs": [],
   "source": [
    "from backtesting.test import SMA\n",
    "from backtesting.lib import crossover\n",
    "\n",
    "class SmaCross(Strategy):    \n",
    "\n",
    "    n1 = 5\n",
    "    n2 = 10\n",
    "\n",
    "    def init(self):\n",
    "        price = self.data.Close\n",
    "        self.ma1 = self.I(SMA, price, self.n1)\n",
    "        self.ma2 = self.I(SMA, price, self.n2)\n",
    "\n",
    "    def next(self):\n",
    "        if crossover(self.ma1, self.ma2):\n",
    "            self.buy()\n",
    "        elif crossover(self.ma2, self.ma1):\n",
    "            self.sell()"
   ]
  },
  {
   "cell_type": "code",
   "execution_count": null,
   "metadata": {
    "id": "Dw7nXASSk65K"
   },
   "outputs": [],
   "source": [
    "bt = Backtest(GOOG, SmaCross, cash = 10000, commission = .005, exclusive_orders = True)\n",
    "stats = bt.run()\n",
    "bt.plot()"
   ]
  },
  {
   "cell_type": "code",
   "execution_count": null,
   "metadata": {
    "id": "spQ4d-8VlKI3"
   },
   "outputs": [],
   "source": [
    "stats"
   ]
  },
  {
   "cell_type": "markdown",
   "metadata": {
    "id": "dWJAq9tzyTft"
   },
   "source": [
    "- Glossary\n",
    "    - Sortino ratio: https://en.wikipedia.org/wiki/Sortino_ratio\n",
    "    - Calmar ratio: https://corporatefinanceinstitute.com/resources/knowledge/trading-investing/calmar-ratio/\n",
    "<center>\n",
    "<img src = \"https://cdn.corporatefinanceinstitute.com/assets/calmar-ratio1.png\" width = \"300px\"/>\n",
    "</center>\n",
    "    - SQN (System Quality Number): https://www.bituzi.com/2013/11/SystemQualityNumber.html\n",
    "<center>\n",
    "<img src = \"https://3.bp.blogspot.com/-iKaU7j_yMjo/UoTQDVqufmI/AAAAAAAAAq8/dA1EkBZ07X4/s400/2013-11-14_203502.png\" width = \"300px\"/>\n",
    "</center>"
   ]
  },
  {
   "cell_type": "code",
   "execution_count": null,
   "metadata": {
    "id": "ExsYhy76vict"
   },
   "outputs": [],
   "source": [
    "stats[\"_trades\"]"
   ]
  },
  {
   "cell_type": "code",
   "execution_count": null,
   "metadata": {
    "id": "-3tBXOuC0xji"
   },
   "outputs": [],
   "source": [
    "stats = bt.optimize(n1 = range(5, 60, 5), n2 = range(10, 240, 10), maximize = \"Equity Final [$]\",\n",
    "           constraint = lambda param: param.n1 < param.n2)\n",
    "stats._strategy"
   ]
  },
  {
   "cell_type": "code",
   "execution_count": null,
   "metadata": {
    "id": "jVzxa7S91qVN"
   },
   "outputs": [],
   "source": [
    "stats"
   ]
  },
  {
   "cell_type": "markdown",
   "metadata": {
    "id": "1WLxetXkl5V3"
   },
   "source": [
    "## Exercise"
   ]
  },
  {
   "cell_type": "code",
   "execution_count": null,
   "metadata": {
    "id": "B4lOFlhWl7Zz"
   },
   "outputs": [],
   "source": [
    "tsmc = ffn.get(\"2330.tw:Open, 2330.tw:High, 2330.tw:Low, 2330.tw:Close\", start = \"2021-01-01\")\n",
    "tsmc.columns = list(map(lambda x : x[6:].title(), tsmc.columns))\n",
    "tsmc"
   ]
  },
  {
   "cell_type": "code",
   "execution_count": null,
   "metadata": {
    "id": "0nDEaduDnmdb"
   },
   "outputs": [],
   "source": [
    "class SmaCross(Strategy):\n",
    "\n",
    "    n1 = 5\n",
    "    n2 = 10\n",
    "\n",
    "    def init(self):\n",
    "        price = self.data.Close\n",
    "        self.ma1 = self.I(SMA, price, self.n1)\n",
    "        self.ma2 = self.I(SMA, price, self.n2)\n",
    "\n",
    "    def next(self):\n",
    "        if crossover(self.ma1, self.ma2):\n",
    "            self.position.close()\n",
    "        elif crossover(self.ma2, self.ma1):\n",
    "            self.sell()"
   ]
  },
  {
   "cell_type": "code",
   "execution_count": null,
   "metadata": {
    "id": "q_nBb66imevz"
   },
   "outputs": [],
   "source": [
    "bt = Backtest(tsmc, SmaCross, commission = .005, cash = 100000, exclusive_orders = True)\n",
    "stats = bt.run()\n",
    "bt.plot()"
   ]
  },
  {
   "cell_type": "code",
   "execution_count": null,
   "metadata": {
    "id": "AAGliQF42-GR"
   },
   "outputs": [],
   "source": [
    "stats"
   ]
  },
  {
   "cell_type": "code",
   "execution_count": null,
   "metadata": {
    "id": "g3KzhL2x3EbA"
   },
   "outputs": [],
   "source": [
    "stats = bt.optimize(n1 = range(5, 60, 5), n2 = range(10, 240, 10), maximize = 'Sharpe Ratio',\n",
    "           constraint = lambda param: param.n1 < param.n2)\n",
    "stats._strategy"
   ]
  },
  {
   "cell_type": "code",
   "execution_count": null,
   "metadata": {
    "id": "0iEnQhDr3J5Z"
   },
   "outputs": [],
   "source": [
    "stats"
   ]
  }
 ],
 "metadata": {
  "colab": {
   "collapsed_sections": [],
   "name": "pyf_2_backtesting.ipynb",
   "provenance": [],
   "toc_visible": true
  },
  "kernelspec": {
   "display_name": "Python 3 (ipykernel)",
   "language": "python",
   "name": "python3"
  },
  "language_info": {
   "codemirror_mode": {
    "name": "ipython",
    "version": 3
   },
   "file_extension": ".py",
   "mimetype": "text/x-python",
   "name": "python",
   "nbconvert_exporter": "python",
   "pygments_lexer": "ipython3",
   "version": "3.9.11"
  }
 },
 "nbformat": 4,
 "nbformat_minor": 4
}
